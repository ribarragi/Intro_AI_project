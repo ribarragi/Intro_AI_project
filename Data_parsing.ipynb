{
 "cells": [
  {
   "cell_type": "code",
   "execution_count": 2,
   "metadata": {},
   "outputs": [],
   "source": [
    "import pandas as pd"
   ]
  },
  {
   "cell_type": "code",
   "execution_count": 3,
   "metadata": {},
   "outputs": [],
   "source": [
    "data_1 = pd.read_csv('Data/DatasetOne.csv')"
   ]
  },
  {
   "cell_type": "code",
   "execution_count": 4,
   "metadata": {},
   "outputs": [
    {
     "data": {
      "text/plain": [
       "447173"
      ]
     },
     "execution_count": 4,
     "metadata": {},
     "output_type": "execute_result"
    }
   ],
   "source": [
    "len(data_1)"
   ]
  },
  {
   "cell_type": "code",
   "execution_count": 5,
   "metadata": {},
   "outputs": [
    {
     "data": {
      "text/html": [
       "<div>\n",
       "<style scoped>\n",
       "    .dataframe tbody tr th:only-of-type {\n",
       "        vertical-align: middle;\n",
       "    }\n",
       "\n",
       "    .dataframe tbody tr th {\n",
       "        vertical-align: top;\n",
       "    }\n",
       "\n",
       "    .dataframe thead th {\n",
       "        text-align: right;\n",
       "    }\n",
       "</style>\n",
       "<table border=\"1\" class=\"dataframe\">\n",
       "  <thead>\n",
       "    <tr style=\"text-align: right;\">\n",
       "      <th></th>\n",
       "      <th>Query Id</th>\n",
       "      <th>Query Name</th>\n",
       "      <th>Date</th>\n",
       "      <th>Title</th>\n",
       "      <th>Url</th>\n",
       "      <th>Domain</th>\n",
       "      <th>Sentiment</th>\n",
       "      <th>Page Type</th>\n",
       "      <th>Language</th>\n",
       "      <th>Country Code</th>\n",
       "      <th>...</th>\n",
       "      <th>Sina Weibo Author Id</th>\n",
       "      <th>Sina Weibo Bi Followers</th>\n",
       "      <th>Sina Weibo Favourites Count</th>\n",
       "      <th>Sina Weibo Followers</th>\n",
       "      <th>Sina Weibo Following</th>\n",
       "      <th>Sina Weibo Post Count</th>\n",
       "      <th>Sina Weibo Raw Location</th>\n",
       "      <th>Subreddit</th>\n",
       "      <th>Subreddit Subscribers</th>\n",
       "      <th>Weblog Title</th>\n",
       "    </tr>\n",
       "  </thead>\n",
       "  <tbody>\n",
       "    <tr>\n",
       "      <th>0</th>\n",
       "      <td>2001600692</td>\n",
       "      <td>Attempt_1</td>\n",
       "      <td>2023-03-14 21:46:27.0</td>\n",
       "      <td>RT @TristanSnell Get rid of train safety rules...</td>\n",
       "      <td>http://twitter.com/Valiant7283/statuses/163575...</td>\n",
       "      <td>twitter.com</td>\n",
       "      <td>neutral</td>\n",
       "      <td>twitter</td>\n",
       "      <td>en</td>\n",
       "      <td>NaN</td>\n",
       "      <td>...</td>\n",
       "      <td>NaN</td>\n",
       "      <td>NaN</td>\n",
       "      <td>NaN</td>\n",
       "      <td>NaN</td>\n",
       "      <td>NaN</td>\n",
       "      <td>NaN</td>\n",
       "      <td>NaN</td>\n",
       "      <td>NaN</td>\n",
       "      <td>NaN</td>\n",
       "      <td>Valiant7283 (Val #GOPPutinsParty #IStandWithUk...</td>\n",
       "    </tr>\n",
       "    <tr>\n",
       "      <th>1</th>\n",
       "      <td>2001600692</td>\n",
       "      <td>Attempt_1</td>\n",
       "      <td>2023-03-14 21:45:05.0</td>\n",
       "      <td>We need accountability from Norfolk Southern f...</td>\n",
       "      <td>http://twitter.com/SenJeffMerkley/statuses/163...</td>\n",
       "      <td>twitter.com</td>\n",
       "      <td>negative</td>\n",
       "      <td>twitter</td>\n",
       "      <td>en</td>\n",
       "      <td>USA</td>\n",
       "      <td>...</td>\n",
       "      <td>NaN</td>\n",
       "      <td>NaN</td>\n",
       "      <td>NaN</td>\n",
       "      <td>NaN</td>\n",
       "      <td>NaN</td>\n",
       "      <td>NaN</td>\n",
       "      <td>NaN</td>\n",
       "      <td>NaN</td>\n",
       "      <td>NaN</td>\n",
       "      <td>SenJeffMerkley (Senator Jeff Merkley)</td>\n",
       "    </tr>\n",
       "    <tr>\n",
       "      <th>2</th>\n",
       "      <td>2001600692</td>\n",
       "      <td>Attempt_1</td>\n",
       "      <td>2023-03-14 21:45:00.0</td>\n",
       "      <td>The federal lawsuit also seeks to force the co...</td>\n",
       "      <td>http://twitter.com/YourNewsNet/statuses/163575...</td>\n",
       "      <td>twitter.com</td>\n",
       "      <td>negative</td>\n",
       "      <td>twitter</td>\n",
       "      <td>en</td>\n",
       "      <td>USA</td>\n",
       "      <td>...</td>\n",
       "      <td>NaN</td>\n",
       "      <td>NaN</td>\n",
       "      <td>NaN</td>\n",
       "      <td>NaN</td>\n",
       "      <td>NaN</td>\n",
       "      <td>NaN</td>\n",
       "      <td>NaN</td>\n",
       "      <td>NaN</td>\n",
       "      <td>NaN</td>\n",
       "      <td>YourNewsNet (NEWSnet)</td>\n",
       "    </tr>\n",
       "    <tr>\n",
       "      <th>3</th>\n",
       "      <td>2001600692</td>\n",
       "      <td>Attempt_1</td>\n",
       "      <td>2023-03-14 21:44:13.0</td>\n",
       "      <td>#Ohio files #FederalLawsuit against Norfolk So...</td>\n",
       "      <td>http://twitter.com/Reading4Leading/statuses/16...</td>\n",
       "      <td>twitter.com</td>\n",
       "      <td>neutral</td>\n",
       "      <td>twitter</td>\n",
       "      <td>en</td>\n",
       "      <td>NaN</td>\n",
       "      <td>...</td>\n",
       "      <td>NaN</td>\n",
       "      <td>NaN</td>\n",
       "      <td>NaN</td>\n",
       "      <td>NaN</td>\n",
       "      <td>NaN</td>\n",
       "      <td>NaN</td>\n",
       "      <td>NaN</td>\n",
       "      <td>NaN</td>\n",
       "      <td>NaN</td>\n",
       "      <td>Reading4Leading (It's Me)</td>\n",
       "    </tr>\n",
       "  </tbody>\n",
       "</table>\n",
       "<p>4 rows × 122 columns</p>\n",
       "</div>"
      ],
      "text/plain": [
       "     Query Id Query Name                   Date  \\\n",
       "0  2001600692  Attempt_1  2023-03-14 21:46:27.0   \n",
       "1  2001600692  Attempt_1  2023-03-14 21:45:05.0   \n",
       "2  2001600692  Attempt_1  2023-03-14 21:45:00.0   \n",
       "3  2001600692  Attempt_1  2023-03-14 21:44:13.0   \n",
       "\n",
       "                                               Title  \\\n",
       "0  RT @TristanSnell Get rid of train safety rules...   \n",
       "1  We need accountability from Norfolk Southern f...   \n",
       "2  The federal lawsuit also seeks to force the co...   \n",
       "3  #Ohio files #FederalLawsuit against Norfolk So...   \n",
       "\n",
       "                                                 Url       Domain Sentiment  \\\n",
       "0  http://twitter.com/Valiant7283/statuses/163575...  twitter.com   neutral   \n",
       "1  http://twitter.com/SenJeffMerkley/statuses/163...  twitter.com  negative   \n",
       "2  http://twitter.com/YourNewsNet/statuses/163575...  twitter.com  negative   \n",
       "3  http://twitter.com/Reading4Leading/statuses/16...  twitter.com   neutral   \n",
       "\n",
       "  Page Type Language Country Code  ... Sina Weibo Author Id  \\\n",
       "0   twitter       en          NaN  ...                  NaN   \n",
       "1   twitter       en          USA  ...                  NaN   \n",
       "2   twitter       en          USA  ...                  NaN   \n",
       "3   twitter       en          NaN  ...                  NaN   \n",
       "\n",
       "  Sina Weibo Bi Followers Sina Weibo Favourites Count Sina Weibo Followers  \\\n",
       "0                     NaN                         NaN                  NaN   \n",
       "1                     NaN                         NaN                  NaN   \n",
       "2                     NaN                         NaN                  NaN   \n",
       "3                     NaN                         NaN                  NaN   \n",
       "\n",
       "  Sina Weibo Following Sina Weibo Post Count  Sina Weibo Raw Location  \\\n",
       "0                  NaN                   NaN                      NaN   \n",
       "1                  NaN                   NaN                      NaN   \n",
       "2                  NaN                   NaN                      NaN   \n",
       "3                  NaN                   NaN                      NaN   \n",
       "\n",
       "  Subreddit Subreddit Subscribers  \\\n",
       "0       NaN                   NaN   \n",
       "1       NaN                   NaN   \n",
       "2       NaN                   NaN   \n",
       "3       NaN                   NaN   \n",
       "\n",
       "                                        Weblog Title  \n",
       "0  Valiant7283 (Val #GOPPutinsParty #IStandWithUk...  \n",
       "1              SenJeffMerkley (Senator Jeff Merkley)  \n",
       "2                              YourNewsNet (NEWSnet)  \n",
       "3                          Reading4Leading (It's Me)  \n",
       "\n",
       "[4 rows x 122 columns]"
      ]
     },
     "execution_count": 5,
     "metadata": {},
     "output_type": "execute_result"
    }
   ],
   "source": [
    "data_1.head(4)"
   ]
  },
  {
   "cell_type": "code",
   "execution_count": 6,
   "metadata": {},
   "outputs": [],
   "source": [
    "# Drop columns with only nulls\n",
    "null_col_bool = [i for i in [data_1.isna().sum() != len(data_1)][0]]\n",
    "cols_keep = data_1.columns[null_col_bool]\n",
    "data_1 = data_1.loc[:, cols_keep]"
   ]
  },
  {
   "cell_type": "code",
   "execution_count": 7,
   "metadata": {},
   "outputs": [],
   "source": [
    "# print({col: data_1[col].sum() for col in data_1.select_dtypes(include=['int', 'float'])})"
   ]
  },
  {
   "cell_type": "code",
   "execution_count": 8,
   "metadata": {},
   "outputs": [],
   "source": [
    "# Drop this columns because all values are zero (these are related to Instagram and Linkedin attributes, and we ont have Instagram or Linknedin data)\n",
    "cols_drop = [col for col in data_1.select_dtypes(include=['int', 'float']) if data_1[col].sum() == 0]\n",
    "data_1.drop(columns = cols_drop, inplace=True)"
   ]
  },
  {
   "cell_type": "code",
   "execution_count": 9,
   "metadata": {},
   "outputs": [
    {
     "data": {
      "text/plain": [
       "True"
      ]
     },
     "execution_count": 9,
     "metadata": {},
     "output_type": "execute_result"
    }
   ],
   "source": [
    "# Drop columns because all entries are 0\n",
    "0 == data_1['Is Syndicated'].sum() == data_1['Linkedin Sponsored'].sum() == data_1['Starred'].sum() == data_1['Checked'].sum()\n",
    "\n",
    "# Drop columns becuase they only have one unique value (True for example)\n",
    "1 == data_1['Total Monthly Visitors'].nunique() == data_1['Content Source'].nunique() == data_1['Content Source Name'].nunique() == data_1['Page Type Name'].nunique() == data_1['Pub Type'].nunique()"
   ]
  },
  {
   "cell_type": "code",
   "execution_count": 10,
   "metadata": {},
   "outputs": [
    {
     "data": {
      "text/plain": [
       " 0.000000      447157\n",
       "-77.036819          3\n",
       "-87.629005          2\n",
       "-78.534470          1\n",
       "-84.772171          1\n",
       "-75.708061          1\n",
       "-74.011040          1\n",
       "-80.546501          1\n",
       "-87.628670          1\n",
       "-87.630859          1\n",
       "-79.926163          1\n",
       "-121.919281         1\n",
       "-118.100418         1\n",
       "-115.148445         1\n",
       "Name: Longitude, dtype: int64"
      ]
     },
     "execution_count": 10,
     "metadata": {},
     "output_type": "execute_result"
    }
   ],
   "source": [
    "# Not very useful, same case with Latitude\n",
    "data_1['Longitude'].value_counts()"
   ]
  },
  {
   "cell_type": "code",
   "execution_count": 11,
   "metadata": {},
   "outputs": [],
   "source": [
    "# Non useful columns \n",
    "non_useful_cols = ['Avatar', 'Latitude', 'Longitude', 'Total Monthly Visitors', 'Content Source', 'Is Syndicated', 'Linkedin Sponsored', 'Starred', 'Content Source Name', 'Page Type Name', 'Pub Type', 'Checked']\n",
    "data_1.drop(columns = non_useful_cols, inplace=True)"
   ]
  },
  {
   "cell_type": "code",
   "execution_count": 12,
   "metadata": {},
   "outputs": [
    {
     "data": {
      "text/plain": [
       "Index(['Query Id', 'Query Name', 'Date', 'Title', 'Url', 'Domain', 'Sentiment',\n",
       "       'Page Type', 'Language', 'Country Code', 'Continent Code', 'Continent',\n",
       "       'Country', 'City Code', 'Account Type', 'Added', 'Author', 'City',\n",
       "       'Entity Info', 'Expanded URLs', 'Full Name', 'Full Text', 'Gender',\n",
       "       'Hashtags', 'Impact', 'Impressions', 'Interest', 'Location Name',\n",
       "       'Media URLs', 'Mentioned Authors', 'Original Url', 'Professions',\n",
       "       'Resource Id', 'Short URLs', 'Thread Author', 'Thread Created Date',\n",
       "       'Thread Entry Type', 'Thread Id', 'Twitter Author ID',\n",
       "       'Twitter Followers', 'Twitter Following', 'Twitter Reply Count',\n",
       "       'Twitter Reply to', 'Twitter Retweet of', 'Twitter Retweets',\n",
       "       'Twitter Likes', 'Twitter Tweets', 'Twitter Verified', 'Updated',\n",
       "       'Reach (new)', 'Engagement Type', 'Region', 'Region Code',\n",
       "       'Weblog Title'],\n",
       "      dtype='object')"
      ]
     },
     "execution_count": 12,
     "metadata": {},
     "output_type": "execute_result"
    }
   ],
   "source": [
    "# Final columns kept\n",
    "data_1.columns"
   ]
  },
  {
   "cell_type": "code",
   "execution_count": 13,
   "metadata": {},
   "outputs": [
    {
     "data": {
      "text/plain": [
       "False    439974\n",
       "True       7199\n",
       "Name: Twitter Verified, dtype: int64"
      ]
     },
     "execution_count": 13,
     "metadata": {},
     "output_type": "execute_result"
    }
   ],
   "source": [
    "data_1['Twitter Verified'].value_counts()"
   ]
  },
  {
   "cell_type": "code",
   "execution_count": 14,
   "metadata": {},
   "outputs": [
    {
     "data": {
      "text/plain": [
       "Twitter Verified\n",
       "False    226703\n",
       "True     206244\n",
       "Name: Twitter Retweets, dtype: int64"
      ]
     },
     "execution_count": 14,
     "metadata": {},
     "output_type": "execute_result"
    }
   ],
   "source": [
    "data_1.groupby('Twitter Verified')['Twitter Retweets'].sum()"
   ]
  },
  {
   "attachments": {},
   "cell_type": "markdown",
   "metadata": {},
   "source": [
    "### **Tweets from source 2 ( I know the folder is named Data_1, but this is in fact data_2)**"
   ]
  },
  {
   "cell_type": "code",
   "execution_count": 15,
   "metadata": {},
   "outputs": [],
   "source": [
    "tweet = pd.read_csv('Data/Tweet.csv')\n",
    "agent = pd.read_csv('Data/Agent.csv')\n",
    "hashtag = pd.read_csv('Data/Hashtag.csv')\n",
    "url = pd.read_csv('Data/URL.csv')"
   ]
  },
  {
   "cell_type": "code",
   "execution_count": 16,
   "metadata": {},
   "outputs": [
    {
     "data": {
      "text/html": [
       "<div>\n",
       "<style scoped>\n",
       "    .dataframe tbody tr th:only-of-type {\n",
       "        vertical-align: middle;\n",
       "    }\n",
       "\n",
       "    .dataframe tbody tr th {\n",
       "        vertical-align: top;\n",
       "    }\n",
       "\n",
       "    .dataframe thead th {\n",
       "        text-align: right;\n",
       "    }\n",
       "</style>\n",
       "<table border=\"1\" class=\"dataframe\">\n",
       "  <thead>\n",
       "    <tr style=\"text-align: right;\">\n",
       "      <th></th>\n",
       "      <th>Node ID</th>\n",
       "      <th>DATE</th>\n",
       "      <th>IS_RETWEET</th>\n",
       "      <th>RETWEET_COUNT</th>\n",
       "      <th>MESSAGE</th>\n",
       "      <th>Language</th>\n",
       "      <th>conversation_id</th>\n",
       "      <th>HAS_URL</th>\n",
       "      <th>IS_REPLY</th>\n",
       "      <th>IS_IN_REPLY_TO</th>\n",
       "      <th>IS_QUOTE</th>\n",
       "      <th>IS_GEOTAGGED</th>\n",
       "      <th>Latitude</th>\n",
       "      <th>Longitude</th>\n",
       "      <th>Sender</th>\n",
       "      <th>Location</th>\n",
       "    </tr>\n",
       "  </thead>\n",
       "  <tbody>\n",
       "    <tr>\n",
       "      <th>0</th>\n",
       "      <td>1635792903053221889</td>\n",
       "      <td>2023-03-14 23:59:54-04</td>\n",
       "      <td>1.0</td>\n",
       "      <td>51.0</td>\n",
       "      <td>RT @NBCNews: BREAKING: Ohio's attorney general...</td>\n",
       "      <td>en</td>\n",
       "      <td>1.635793e+18</td>\n",
       "      <td>NaN</td>\n",
       "      <td>NaN</td>\n",
       "      <td>NaN</td>\n",
       "      <td>NaN</td>\n",
       "      <td>NaN</td>\n",
       "      <td>NaN</td>\n",
       "      <td>NaN</td>\n",
       "      <td>ricardonotes</td>\n",
       "      <td>USA</td>\n",
       "    </tr>\n",
       "    <tr>\n",
       "      <th>1</th>\n",
       "      <td>1635731458026340360</td>\n",
       "      <td>2023-03-14 19:55:44-04</td>\n",
       "      <td>NaN</td>\n",
       "      <td>51.0</td>\n",
       "      <td>BREAKING: Ohio's attorney general sues Norfolk...</td>\n",
       "      <td>en</td>\n",
       "      <td>1.635731e+18</td>\n",
       "      <td>1.0</td>\n",
       "      <td>NaN</td>\n",
       "      <td>NaN</td>\n",
       "      <td>NaN</td>\n",
       "      <td>NaN</td>\n",
       "      <td>NaN</td>\n",
       "      <td>NaN</td>\n",
       "      <td>NBCNews</td>\n",
       "      <td>New York, NY</td>\n",
       "    </tr>\n",
       "    <tr>\n",
       "      <th>2</th>\n",
       "      <td>1635792899928465409</td>\n",
       "      <td>2023-03-14 23:59:53-04</td>\n",
       "      <td>1.0</td>\n",
       "      <td>3.0</td>\n",
       "      <td>RT @Patriot911News: JUST IN: Ohio is Suing Nor...</td>\n",
       "      <td>en</td>\n",
       "      <td>1.635793e+18</td>\n",
       "      <td>1.0</td>\n",
       "      <td>NaN</td>\n",
       "      <td>NaN</td>\n",
       "      <td>NaN</td>\n",
       "      <td>NaN</td>\n",
       "      <td>NaN</td>\n",
       "      <td>NaN</td>\n",
       "      <td>sweed20</td>\n",
       "      <td>North Dakota</td>\n",
       "    </tr>\n",
       "    <tr>\n",
       "      <th>3</th>\n",
       "      <td>1635792836107948032</td>\n",
       "      <td>2023-03-14 23:59:38-04</td>\n",
       "      <td>NaN</td>\n",
       "      <td>3.0</td>\n",
       "      <td>JUST IN: Ohio is Suing Norfolk Southern Over T...</td>\n",
       "      <td>en</td>\n",
       "      <td>1.635793e+18</td>\n",
       "      <td>1.0</td>\n",
       "      <td>NaN</td>\n",
       "      <td>NaN</td>\n",
       "      <td>NaN</td>\n",
       "      <td>NaN</td>\n",
       "      <td>NaN</td>\n",
       "      <td>NaN</td>\n",
       "      <td>Patriot911News</td>\n",
       "      <td>NaN</td>\n",
       "    </tr>\n",
       "  </tbody>\n",
       "</table>\n",
       "</div>"
      ],
      "text/plain": [
       "               Node ID                    DATE  IS_RETWEET  RETWEET_COUNT  \\\n",
       "0  1635792903053221889  2023-03-14 23:59:54-04         1.0           51.0   \n",
       "1  1635731458026340360  2023-03-14 19:55:44-04         NaN           51.0   \n",
       "2  1635792899928465409  2023-03-14 23:59:53-04         1.0            3.0   \n",
       "3  1635792836107948032  2023-03-14 23:59:38-04         NaN            3.0   \n",
       "\n",
       "                                             MESSAGE Language  \\\n",
       "0  RT @NBCNews: BREAKING: Ohio's attorney general...       en   \n",
       "1  BREAKING: Ohio's attorney general sues Norfolk...       en   \n",
       "2  RT @Patriot911News: JUST IN: Ohio is Suing Nor...       en   \n",
       "3  JUST IN: Ohio is Suing Norfolk Southern Over T...       en   \n",
       "\n",
       "   conversation_id  HAS_URL  IS_REPLY  IS_IN_REPLY_TO  IS_QUOTE  IS_GEOTAGGED  \\\n",
       "0     1.635793e+18      NaN       NaN             NaN       NaN           NaN   \n",
       "1     1.635731e+18      1.0       NaN             NaN       NaN           NaN   \n",
       "2     1.635793e+18      1.0       NaN             NaN       NaN           NaN   \n",
       "3     1.635793e+18      1.0       NaN             NaN       NaN           NaN   \n",
       "\n",
       "   Latitude  Longitude          Sender      Location  \n",
       "0       NaN        NaN    ricardonotes           USA  \n",
       "1       NaN        NaN         NBCNews  New York, NY  \n",
       "2       NaN        NaN         sweed20  North Dakota  \n",
       "3       NaN        NaN  Patriot911News           NaN  "
      ]
     },
     "execution_count": 16,
     "metadata": {},
     "output_type": "execute_result"
    }
   ],
   "source": [
    "tweet.head(4)"
   ]
  },
  {
   "cell_type": "code",
   "execution_count": 17,
   "metadata": {},
   "outputs": [
    {
     "data": {
      "text/plain": [
       "124678"
      ]
     },
     "execution_count": 17,
     "metadata": {},
     "output_type": "execute_result"
    }
   ],
   "source": [
    "len(tweet)"
   ]
  },
  {
   "cell_type": "code",
   "execution_count": 18,
   "metadata": {},
   "outputs": [
    {
     "data": {
      "text/html": [
       "<div>\n",
       "<style scoped>\n",
       "    .dataframe tbody tr th:only-of-type {\n",
       "        vertical-align: middle;\n",
       "    }\n",
       "\n",
       "    .dataframe tbody tr th {\n",
       "        vertical-align: top;\n",
       "    }\n",
       "\n",
       "    .dataframe thead th {\n",
       "        text-align: right;\n",
       "    }\n",
       "</style>\n",
       "<table border=\"1\" class=\"dataframe\">\n",
       "  <thead>\n",
       "    <tr style=\"text-align: right;\">\n",
       "      <th></th>\n",
       "      <th>Node ID</th>\n",
       "      <th>Language</th>\n",
       "      <th>NUMBER_FOLLOWERS</th>\n",
       "      <th>Node Label</th>\n",
       "      <th>IS_VERIFIED</th>\n",
       "      <th>LOCATION</th>\n",
       "      <th>IS_NEWS_AGENCY</th>\n",
       "      <th>TWEET_COUNT</th>\n",
       "    </tr>\n",
       "  </thead>\n",
       "  <tbody>\n",
       "    <tr>\n",
       "      <th>0</th>\n",
       "      <td>2608799046</td>\n",
       "      <td>en</td>\n",
       "      <td>463.0</td>\n",
       "      <td>ricardonotes</td>\n",
       "      <td>0.0</td>\n",
       "      <td>USA</td>\n",
       "      <td>NaN</td>\n",
       "      <td>4</td>\n",
       "    </tr>\n",
       "    <tr>\n",
       "      <th>1</th>\n",
       "      <td>25984168</td>\n",
       "      <td>en</td>\n",
       "      <td>2154.0</td>\n",
       "      <td>sweed20</td>\n",
       "      <td>0.0</td>\n",
       "      <td>North Dakota</td>\n",
       "      <td>NaN</td>\n",
       "      <td>2</td>\n",
       "    </tr>\n",
       "    <tr>\n",
       "      <th>2</th>\n",
       "      <td>858066056786694144</td>\n",
       "      <td>en</td>\n",
       "      <td>30331.0</td>\n",
       "      <td>Patriot911News</td>\n",
       "      <td>0.0</td>\n",
       "      <td>NaN</td>\n",
       "      <td>NaN</td>\n",
       "      <td>3</td>\n",
       "    </tr>\n",
       "    <tr>\n",
       "      <th>3</th>\n",
       "      <td>1333385753146126336</td>\n",
       "      <td>en</td>\n",
       "      <td>2338.0</td>\n",
       "      <td>RebeccaCPayton2</td>\n",
       "      <td>0.0</td>\n",
       "      <td>Alabama, USA</td>\n",
       "      <td>NaN</td>\n",
       "      <td>1</td>\n",
       "    </tr>\n",
       "  </tbody>\n",
       "</table>\n",
       "</div>"
      ],
      "text/plain": [
       "               Node ID Language  NUMBER_FOLLOWERS       Node Label  \\\n",
       "0           2608799046       en             463.0     ricardonotes   \n",
       "1             25984168       en            2154.0          sweed20   \n",
       "2   858066056786694144       en           30331.0   Patriot911News   \n",
       "3  1333385753146126336       en            2338.0  RebeccaCPayton2   \n",
       "\n",
       "   IS_VERIFIED      LOCATION  IS_NEWS_AGENCY  TWEET_COUNT  \n",
       "0          0.0           USA             NaN            4  \n",
       "1          0.0  North Dakota             NaN            2  \n",
       "2          0.0           NaN             NaN            3  \n",
       "3          0.0  Alabama, USA             NaN            1  "
      ]
     },
     "execution_count": 18,
     "metadata": {},
     "output_type": "execute_result"
    }
   ],
   "source": [
    "agent.head(4)"
   ]
  },
  {
   "cell_type": "code",
   "execution_count": 19,
   "metadata": {},
   "outputs": [
    {
     "data": {
      "text/plain": [
       "0.0    75963\n",
       "1.0     2681\n",
       "Name: IS_VERIFIED, dtype: int64"
      ]
     },
     "execution_count": 19,
     "metadata": {},
     "output_type": "execute_result"
    }
   ],
   "source": [
    "agent.IS_VERIFIED.value_counts(normalize = False)"
   ]
  },
  {
   "cell_type": "code",
   "execution_count": 20,
   "metadata": {},
   "outputs": [
    {
     "data": {
      "text/plain": [
       "NaN    77946\n",
       "1.0      852\n",
       "Name: IS_NEWS_AGENCY, dtype: int64"
      ]
     },
     "execution_count": 20,
     "metadata": {},
     "output_type": "execute_result"
    }
   ],
   "source": [
    "# If there are 2681 tweets from verified and 852 from news org, then the rest are? Politicians (mainly??), Artists\n",
    "agent.IS_NEWS_AGENCY.value_counts(dropna = False)"
   ]
  },
  {
   "cell_type": "code",
   "execution_count": 21,
   "metadata": {},
   "outputs": [
    {
     "data": {
      "text/plain": [
       "26        MailOnline\n",
       "44         AKNewsNow\n",
       "62         WashTimes\n",
       "82       DailyCaller\n",
       "85           CBSNews\n",
       "            ...     \n",
       "77450            CBC\n",
       "77529      wikileaks\n",
       "78184            nbc\n",
       "78185            CBS\n",
       "78356      RogReview\n",
       "Name: Node Label, Length: 852, dtype: object"
      ]
     },
     "execution_count": 21,
     "metadata": {},
     "output_type": "execute_result"
    }
   ],
   "source": [
    "# News organizations, seems like one per tweet.\n",
    "agent['Node Label'][agent.IS_NEWS_AGENCY == 1]"
   ]
  },
  {
   "cell_type": "code",
   "execution_count": null,
   "metadata": {},
   "outputs": [],
   "source": []
  },
  {
   "cell_type": "code",
   "execution_count": null,
   "metadata": {},
   "outputs": [],
   "source": []
  }
 ],
 "metadata": {
  "kernelspec": {
   "display_name": "DSBD",
   "language": "python",
   "name": "python3"
  },
  "language_info": {
   "codemirror_mode": {
    "name": "ipython",
    "version": 3
   },
   "file_extension": ".py",
   "mimetype": "text/x-python",
   "name": "python",
   "nbconvert_exporter": "python",
   "pygments_lexer": "ipython3",
   "version": "3.9.16"
  },
  "orig_nbformat": 4
 },
 "nbformat": 4,
 "nbformat_minor": 2
}
