{
 "cells": [
  {
   "cell_type": "code",
   "execution_count": 2,
   "metadata": {},
   "outputs": [],
   "source": [
    "import pandas as pd"
   ]
  },
  {
   "cell_type": "code",
   "execution_count": 3,
   "metadata": {},
   "outputs": [],
   "source": [
    "data_1 = pd.read_csv('Data/DatasetOne.csv')"
   ]
  },
  {
   "cell_type": "code",
   "execution_count": 4,
   "metadata": {},
   "outputs": [],
   "source": [
    "# Drop columns with only nulls\n",
    "null_col_bool = [i for i in [data_1.isna().sum() != len(data_1)][0]]\n",
    "cols_keep = data_1.columns[null_col_bool]\n",
    "data_1 = data_1.loc[:, cols_keep]"
   ]
  },
  {
   "cell_type": "code",
   "execution_count": 5,
   "metadata": {},
   "outputs": [],
   "source": [
    "# Drop this columns because all values are zero (these are related to Instagram and Linkedin attributes, and we ont have Instagram or Linknedin data)\n",
    "cols_drop = [col for col in data_1.select_dtypes(include=['int', 'float']) if data_1[col].sum() == 0]\n",
    "data_1.drop(columns = cols_drop, inplace=True)"
   ]
  },
  {
   "cell_type": "code",
   "execution_count": 6,
   "metadata": {},
   "outputs": [
    {
     "data": {
      "text/plain": [
       "True"
      ]
     },
     "execution_count": 6,
     "metadata": {},
     "output_type": "execute_result"
    }
   ],
   "source": [
    "# Drop columns because all entries are 0\n",
    "0 == data_1['Is Syndicated'].sum() == data_1['Linkedin Sponsored'].sum() == data_1['Starred'].sum() == data_1['Checked'].sum()\n",
    "\n",
    "# Drop columns becuase they only have one unique value (True for example)\n",
    "1 == data_1['Total Monthly Visitors'].nunique() == data_1['Content Source'].nunique() == data_1['Content Source Name'].nunique() == data_1['Page Type Name'].nunique() == data_1['Pub Type'].nunique()"
   ]
  },
  {
   "cell_type": "code",
   "execution_count": 7,
   "metadata": {},
   "outputs": [
    {
     "data": {
      "text/plain": [
       " 0.000000      447157\n",
       "-77.036819          3\n",
       "-87.629005          2\n",
       "-78.534470          1\n",
       "-84.772171          1\n",
       "-75.708061          1\n",
       "-74.011040          1\n",
       "-80.546501          1\n",
       "-87.628670          1\n",
       "-87.630859          1\n",
       "-79.926163          1\n",
       "-121.919281         1\n",
       "-118.100418         1\n",
       "-115.148445         1\n",
       "Name: Longitude, dtype: int64"
      ]
     },
     "execution_count": 7,
     "metadata": {},
     "output_type": "execute_result"
    }
   ],
   "source": [
    "# Not very useful, same case with Latitude\n",
    "data_1['Longitude'].value_counts()"
   ]
  },
  {
   "cell_type": "code",
   "execution_count": 8,
   "metadata": {},
   "outputs": [],
   "source": [
    "# Non useful columns \n",
    "non_useful_cols = ['Avatar', 'Latitude', 'Longitude', 'Total Monthly Visitors', 'Content Source', 'Is Syndicated', 'Linkedin Sponsored', 'Starred', 'Content Source Name', 'Page Type Name', 'Pub Type', 'Checked']\n",
    "data_1.drop(columns = non_useful_cols, inplace=True)"
   ]
  },
  {
   "cell_type": "code",
   "execution_count": 9,
   "metadata": {},
   "outputs": [],
   "source": [
    "data_2 = pd.read_csv('Data/DatasetTwo.csv')\n",
    "data_2 = data_2.loc[:, cols_keep]\n",
    "data_2.drop(columns = cols_drop, inplace=True)\n",
    "data_2.drop(columns = non_useful_cols, inplace=True)"
   ]
  },
  {
   "cell_type": "code",
   "execution_count": 10,
   "metadata": {},
   "outputs": [
    {
     "data": {
      "text/plain": [
       "Index(['Query Id', 'Query Name', 'Date', 'Title', 'Url', 'Domain', 'Sentiment',\n",
       "       'Page Type', 'Language', 'Country Code', 'Continent Code', 'Continent',\n",
       "       'Country', 'City Code', 'Account Type', 'Added', 'Author', 'City',\n",
       "       'Entity Info', 'Expanded URLs', 'Full Name', 'Full Text', 'Gender',\n",
       "       'Hashtags', 'Impact', 'Impressions', 'Interest', 'Location Name',\n",
       "       'Media URLs', 'Mentioned Authors', 'Original Url', 'Professions',\n",
       "       'Resource Id', 'Short URLs', 'Thread Author', 'Thread Created Date',\n",
       "       'Thread Entry Type', 'Thread Id', 'Twitter Author ID',\n",
       "       'Twitter Followers', 'Twitter Following', 'Twitter Reply Count',\n",
       "       'Twitter Reply to', 'Twitter Retweet of', 'Twitter Retweets',\n",
       "       'Twitter Likes', 'Twitter Tweets', 'Twitter Verified', 'Updated',\n",
       "       'Reach (new)', 'Engagement Type', 'Region', 'Region Code',\n",
       "       'Weblog Title'],\n",
       "      dtype='object')"
      ]
     },
     "execution_count": 10,
     "metadata": {},
     "output_type": "execute_result"
    }
   ],
   "source": [
    "# Final columns kept\n",
    "data_1.columns"
   ]
  },
  {
   "cell_type": "code",
   "execution_count": 11,
   "metadata": {},
   "outputs": [
    {
     "data": {
      "text/plain": [
       "Index(['Query Id', 'Query Name', 'Date', 'Title', 'Url', 'Domain', 'Sentiment',\n",
       "       'Page Type', 'Language', 'Country Code', 'Continent Code', 'Continent',\n",
       "       'Country', 'City Code', 'Account Type', 'Added', 'Author', 'City',\n",
       "       'Entity Info', 'Expanded URLs', 'Full Name', 'Full Text', 'Gender',\n",
       "       'Hashtags', 'Impact', 'Impressions', 'Interest', 'Location Name',\n",
       "       'Media URLs', 'Mentioned Authors', 'Original Url', 'Professions',\n",
       "       'Resource Id', 'Short URLs', 'Thread Author', 'Thread Created Date',\n",
       "       'Thread Entry Type', 'Thread Id', 'Twitter Author ID',\n",
       "       'Twitter Followers', 'Twitter Following', 'Twitter Reply Count',\n",
       "       'Twitter Reply to', 'Twitter Retweet of', 'Twitter Retweets',\n",
       "       'Twitter Likes', 'Twitter Tweets', 'Twitter Verified', 'Updated',\n",
       "       'Reach (new)', 'Engagement Type', 'Region', 'Region Code',\n",
       "       'Weblog Title'],\n",
       "      dtype='object')"
      ]
     },
     "execution_count": 11,
     "metadata": {},
     "output_type": "execute_result"
    }
   ],
   "source": [
    "data_2.columns"
   ]
  },
  {
   "cell_type": "code",
   "execution_count": 12,
   "metadata": {},
   "outputs": [
    {
     "data": {
      "text/plain": [
       "{profession=Artist, jobTitle=Artist}                                                                                                                                    3348\n",
       "{profession=Teacher & Lecturer, jobTitle=Teacher}                                                                                                                       2398\n",
       "{profession=Executive, jobTitle=Owner}                                                                                                                                  1704\n",
       "{profession=Health practitioner, jobTitle=Vet}                                                                                                                          1669\n",
       "{profession=Executive, jobTitle=President}                                                                                                                              1536\n",
       "                                                                                                                                                                        ... \n",
       "{profession=Artist, jobTitle=Photographer}, {profession=Artist, jobTitle=Urban Planner}                                                                                    1\n",
       "{profession=Artist, jobTitle=Songwriter}, {profession=Teacher & Lecturer, jobTitle=Teacher}                                                                                1\n",
       "{profession=Artist, jobTitle=Composer}, {profession=Journalist, jobTitle=Editor}, {profession=Executive, jobTitle=Founder}, {profession=Artist, jobTitle=Songwriter}       1\n",
       "{profession=Health practitioner, jobTitle=Counselor}, {profession=Health practitioner, jobTitle=Psychoanalyst}                                                             1\n",
       "{profession=Artist, jobTitle=Artist}, {profession=Scientist & Researcher, jobTitle=Neuroscientist}                                                                         1\n",
       "Name: Professions, Length: 3592, dtype: int64"
      ]
     },
     "execution_count": 12,
     "metadata": {},
     "output_type": "execute_result"
    }
   ],
   "source": [
    "data_1['Professions'].value_counts()"
   ]
  },
  {
   "cell_type": "code",
   "execution_count": 13,
   "metadata": {},
   "outputs": [
    {
     "data": {
      "text/plain": [
       "422985"
      ]
     },
     "execution_count": 13,
     "metadata": {},
     "output_type": "execute_result"
    }
   ],
   "source": [
    "data_1['Engagement Type'].value_counts().sum()"
   ]
  },
  {
   "cell_type": "code",
   "execution_count": 14,
   "metadata": {},
   "outputs": [
    {
     "data": {
      "text/plain": [
       "391422"
      ]
     },
     "execution_count": 14,
     "metadata": {},
     "output_type": "execute_result"
    }
   ],
   "source": [
    "data_1.Title.duplicated().sum()"
   ]
  },
  {
   "cell_type": "code",
   "execution_count": 15,
   "metadata": {},
   "outputs": [
    {
     "data": {
      "text/plain": [
       "55751"
      ]
     },
     "execution_count": 15,
     "metadata": {},
     "output_type": "execute_result"
    }
   ],
   "source": [
    "len(data_1) - data_1.Title.duplicated().sum()"
   ]
  },
  {
   "cell_type": "code",
   "execution_count": 16,
   "metadata": {},
   "outputs": [
    {
     "data": {
      "text/plain": [
       "False    439974\n",
       "True       7199\n",
       "Name: Twitter Verified, dtype: int64"
      ]
     },
     "execution_count": 16,
     "metadata": {},
     "output_type": "execute_result"
    }
   ],
   "source": [
    "data_1['Twitter Verified'].value_counts()"
   ]
  },
  {
   "cell_type": "code",
   "execution_count": 17,
   "metadata": {},
   "outputs": [
    {
     "data": {
      "text/plain": [
       "Twitter Verified\n",
       "False    226703\n",
       "True     206244\n",
       "Name: Twitter Retweets, dtype: int64"
      ]
     },
     "execution_count": 17,
     "metadata": {},
     "output_type": "execute_result"
    }
   ],
   "source": [
    "data_1.groupby('Twitter Verified')['Twitter Retweets'].sum()"
   ]
  },
  {
   "cell_type": "code",
   "execution_count": 18,
   "metadata": {},
   "outputs": [
    {
     "data": {
      "text/html": [
       "<div>\n",
       "<style scoped>\n",
       "    .dataframe tbody tr th:only-of-type {\n",
       "        vertical-align: middle;\n",
       "    }\n",
       "\n",
       "    .dataframe tbody tr th {\n",
       "        vertical-align: top;\n",
       "    }\n",
       "\n",
       "    .dataframe thead th {\n",
       "        text-align: right;\n",
       "    }\n",
       "</style>\n",
       "<table border=\"1\" class=\"dataframe\">\n",
       "  <thead>\n",
       "    <tr style=\"text-align: right;\">\n",
       "      <th></th>\n",
       "      <th>Query Id</th>\n",
       "      <th>Query Name</th>\n",
       "      <th>Date</th>\n",
       "      <th>Title</th>\n",
       "      <th>Url</th>\n",
       "      <th>Domain</th>\n",
       "      <th>Sentiment</th>\n",
       "      <th>Page Type</th>\n",
       "      <th>Language</th>\n",
       "      <th>Country Code</th>\n",
       "      <th>...</th>\n",
       "      <th>Twitter Retweets</th>\n",
       "      <th>Twitter Likes</th>\n",
       "      <th>Twitter Tweets</th>\n",
       "      <th>Twitter Verified</th>\n",
       "      <th>Updated</th>\n",
       "      <th>Reach (new)</th>\n",
       "      <th>Engagement Type</th>\n",
       "      <th>Region</th>\n",
       "      <th>Region Code</th>\n",
       "      <th>Weblog Title</th>\n",
       "    </tr>\n",
       "  </thead>\n",
       "  <tbody>\n",
       "    <tr>\n",
       "      <th>0</th>\n",
       "      <td>2001600692</td>\n",
       "      <td>Attempt_1</td>\n",
       "      <td>2023-03-14 21:46:27.0</td>\n",
       "      <td>RT @TristanSnell Get rid of train safety rules...</td>\n",
       "      <td>http://twitter.com/Valiant7283/statuses/163575...</td>\n",
       "      <td>twitter.com</td>\n",
       "      <td>neutral</td>\n",
       "      <td>twitter</td>\n",
       "      <td>en</td>\n",
       "      <td>NaN</td>\n",
       "      <td>...</td>\n",
       "      <td>0</td>\n",
       "      <td>0</td>\n",
       "      <td>22055</td>\n",
       "      <td>False</td>\n",
       "      <td>2023-03-14T21:53:24.051+0000</td>\n",
       "      <td>1693</td>\n",
       "      <td>RETWEET</td>\n",
       "      <td>NaN</td>\n",
       "      <td>NaN</td>\n",
       "      <td>Valiant7283 (Val #GOPPutinsParty #IStandWithUk...</td>\n",
       "    </tr>\n",
       "    <tr>\n",
       "      <th>1</th>\n",
       "      <td>2001600692</td>\n",
       "      <td>Attempt_1</td>\n",
       "      <td>2023-03-14 21:45:05.0</td>\n",
       "      <td>We need accountability from Norfolk Southern f...</td>\n",
       "      <td>http://twitter.com/SenJeffMerkley/statuses/163...</td>\n",
       "      <td>twitter.com</td>\n",
       "      <td>negative</td>\n",
       "      <td>twitter</td>\n",
       "      <td>en</td>\n",
       "      <td>USA</td>\n",
       "      <td>...</td>\n",
       "      <td>8</td>\n",
       "      <td>0</td>\n",
       "      <td>17687</td>\n",
       "      <td>True</td>\n",
       "      <td>2023-03-14T21:53:24.921+0000</td>\n",
       "      <td>47188</td>\n",
       "      <td>REPLY</td>\n",
       "      <td>Oregon</td>\n",
       "      <td>USA.OR</td>\n",
       "      <td>SenJeffMerkley (Senator Jeff Merkley)</td>\n",
       "    </tr>\n",
       "  </tbody>\n",
       "</table>\n",
       "<p>2 rows × 54 columns</p>\n",
       "</div>"
      ],
      "text/plain": [
       "     Query Id Query Name                   Date  \\\n",
       "0  2001600692  Attempt_1  2023-03-14 21:46:27.0   \n",
       "1  2001600692  Attempt_1  2023-03-14 21:45:05.0   \n",
       "\n",
       "                                               Title  \\\n",
       "0  RT @TristanSnell Get rid of train safety rules...   \n",
       "1  We need accountability from Norfolk Southern f...   \n",
       "\n",
       "                                                 Url       Domain Sentiment  \\\n",
       "0  http://twitter.com/Valiant7283/statuses/163575...  twitter.com   neutral   \n",
       "1  http://twitter.com/SenJeffMerkley/statuses/163...  twitter.com  negative   \n",
       "\n",
       "  Page Type Language Country Code  ... Twitter Retweets Twitter Likes  \\\n",
       "0   twitter       en          NaN  ...                0             0   \n",
       "1   twitter       en          USA  ...                8             0   \n",
       "\n",
       "  Twitter Tweets Twitter Verified                       Updated Reach (new)  \\\n",
       "0          22055            False  2023-03-14T21:53:24.051+0000        1693   \n",
       "1          17687             True  2023-03-14T21:53:24.921+0000       47188   \n",
       "\n",
       "  Engagement Type  Region Region Code  \\\n",
       "0         RETWEET     NaN         NaN   \n",
       "1           REPLY  Oregon      USA.OR   \n",
       "\n",
       "                                        Weblog Title  \n",
       "0  Valiant7283 (Val #GOPPutinsParty #IStandWithUk...  \n",
       "1              SenJeffMerkley (Senator Jeff Merkley)  \n",
       "\n",
       "[2 rows x 54 columns]"
      ]
     },
     "execution_count": 18,
     "metadata": {},
     "output_type": "execute_result"
    }
   ],
   "source": [
    "data_1.head(2)"
   ]
  },
  {
   "cell_type": "code",
   "execution_count": 19,
   "metadata": {},
   "outputs": [
    {
     "data": {
      "text/plain": [
       "12        RT @nicksortor 🚨 #BREAKING: The State of Ohio ...\n",
       "16        RT @OccupyDemocrats BREAKING: The state of Ohi...\n",
       "17        RT @ACTBrigitte Immediately after the train cr...\n",
       "27        RT @CTVNews Ohio sues Norfolk Southern over to...\n",
       "29        RT @TristanSnell Get rid of train safety rules...\n",
       "                                ...                        \n",
       "366925    RT @bennyjohnson Has Joe Biden said anything a...\n",
       "366926    RT @CRRJA5 Ohio Chernobyl 🥵and we haven’t hear...\n",
       "366927    RT @CL4WS_OUT This video shows a fiery axle on...\n",
       "366928    RT @KanekoaTheGreat THREAD: Photos, videos, an...\n",
       "366929    RT @prem_thakker I spoke with the people of Ea...\n",
       "Name: Title, Length: 310497, dtype: object"
      ]
     },
     "execution_count": 19,
     "metadata": {},
     "output_type": "execute_result"
    }
   ],
   "source": [
    "data_2.Title[data_2.Title.duplicated()]"
   ]
  },
  {
   "cell_type": "code",
   "execution_count": 20,
   "metadata": {},
   "outputs": [],
   "source": [
    "# tweets from data_1 and data_2\n",
    "data_3 = pd.concat([data_2, data_1])"
   ]
  },
  {
   "cell_type": "code",
   "execution_count": 21,
   "metadata": {},
   "outputs": [
    {
     "data": {
      "text/plain": [
       "(814103, 753791, 814102)"
      ]
     },
     "execution_count": 21,
     "metadata": {},
     "output_type": "execute_result"
    }
   ],
   "source": [
    "len(data_3), data_3.Title.duplicated().sum(), data_3['Query Id'].duplicated().sum()"
   ]
  },
  {
   "cell_type": "code",
   "execution_count": 22,
   "metadata": {},
   "outputs": [
    {
     "data": {
      "text/plain": [
       "Index(['Query Id', 'Query Name', 'Date', 'Title', 'Url', 'Domain', 'Sentiment',\n",
       "       'Page Type', 'Language', 'Country Code', 'Continent Code', 'Continent',\n",
       "       'Country', 'City Code', 'Account Type', 'Added', 'Author', 'City',\n",
       "       'Entity Info', 'Expanded URLs', 'Full Name', 'Full Text', 'Gender',\n",
       "       'Hashtags', 'Impact', 'Impressions', 'Interest', 'Location Name',\n",
       "       'Media URLs', 'Mentioned Authors', 'Original Url', 'Professions',\n",
       "       'Resource Id', 'Short URLs', 'Thread Author', 'Thread Created Date',\n",
       "       'Thread Entry Type', 'Thread Id', 'Twitter Author ID',\n",
       "       'Twitter Followers', 'Twitter Following', 'Twitter Reply Count',\n",
       "       'Twitter Reply to', 'Twitter Retweet of', 'Twitter Retweets',\n",
       "       'Twitter Likes', 'Twitter Tweets', 'Twitter Verified', 'Updated',\n",
       "       'Reach (new)', 'Engagement Type', 'Region', 'Region Code',\n",
       "       'Weblog Title'],\n",
       "      dtype='object')"
      ]
     },
     "execution_count": 22,
     "metadata": {},
     "output_type": "execute_result"
    }
   ],
   "source": [
    "data_3.columns"
   ]
  },
  {
   "cell_type": "code",
   "execution_count": 23,
   "metadata": {},
   "outputs": [],
   "source": [
    "data_3.drop_duplicates(inplace=True)"
   ]
  },
  {
   "cell_type": "code",
   "execution_count": 24,
   "metadata": {},
   "outputs": [],
   "source": [
    "data_3.drop_duplicates(subset = ['Title'], inplace=True)\n"
   ]
  },
  {
   "cell_type": "code",
   "execution_count": 25,
   "metadata": {},
   "outputs": [
    {
     "data": {
      "text/plain": [
       "60312"
      ]
     },
     "execution_count": 25,
     "metadata": {},
     "output_type": "execute_result"
    }
   ],
   "source": [
    "len(data_3)"
   ]
  },
  {
   "cell_type": "code",
   "execution_count": 26,
   "metadata": {},
   "outputs": [
    {
     "data": {
      "text/plain": [
       "NaN        26329\n",
       "RETWEET    20744\n",
       "REPLY      10670\n",
       "QUOTE       2569\n",
       "Name: Engagement Type, dtype: int64"
      ]
     },
     "execution_count": 26,
     "metadata": {},
     "output_type": "execute_result"
    }
   ],
   "source": [
    "data_3['Engagement Type'].value_counts(dropna=False)"
   ]
  },
  {
   "cell_type": "code",
   "execution_count": 27,
   "metadata": {},
   "outputs": [
    {
     "data": {
      "text/plain": [
       "5111"
      ]
     },
     "execution_count": 27,
     "metadata": {},
     "output_type": "execute_result"
    }
   ],
   "source": [
    "(data_3['Twitter Verified'] == True).sum()"
   ]
  },
  {
   "cell_type": "code",
   "execution_count": 28,
   "metadata": {},
   "outputs": [
    {
     "data": {
      "text/plain": [
       "24             WashTimes\n",
       "28             dansewell\n",
       "33                  ksbw\n",
       "35        SenJeffMerkley\n",
       "47               CTVNews\n",
       "               ...      \n",
       "444234    JordanChariton\n",
       "446547           FoxNews\n",
       "446934     MorePerfectUS\n",
       "446939    JosephWulfsohn\n",
       "446958     microsoftnews\n",
       "Name: Author, Length: 5111, dtype: object"
      ]
     },
     "execution_count": 28,
     "metadata": {},
     "output_type": "execute_result"
    }
   ],
   "source": [
    "data_3['Author'][data_3['Twitter Verified'] == True]"
   ]
  },
  {
   "cell_type": "code",
   "execution_count": 29,
   "metadata": {},
   "outputs": [
    {
     "data": {
      "text/plain": [
       "'{profession=Journalist, jobTitle=Editor}, {profession=Teacher & Lecturer, jobTitle=Teacher}'"
      ]
     },
     "execution_count": 29,
     "metadata": {},
     "output_type": "execute_result"
    }
   ],
   "source": [
    "(data_3['Professions'][data_3['Twitter Verified'] == True].iloc[1])"
   ]
  },
  {
   "cell_type": "code",
   "execution_count": 30,
   "metadata": {},
   "outputs": [],
   "source": [
    "import numpy as np"
   ]
  },
  {
   "cell_type": "code",
   "execution_count": 31,
   "metadata": {},
   "outputs": [
    {
     "data": {
      "text/plain": [
       "24                                                        0\n",
       "28        {profession=Journalist, jobTitle=Editor}, {pro...\n",
       "33                                                        0\n",
       "35                {profession=Politician, jobTitle=Senator}\n",
       "47                                                        0\n",
       "                                ...                        \n",
       "444234         {profession=Journalist, jobTitle=Journalist}\n",
       "446547                                                    0\n",
       "446934                                                    0\n",
       "446939           {profession=Journalist, jobTitle=Reporter}\n",
       "446958                                                    0\n",
       "Name: Professions, Length: 5111, dtype: object"
      ]
     },
     "execution_count": 31,
     "metadata": {},
     "output_type": "execute_result"
    }
   ],
   "source": [
    "data_3['Professions'][data_3['Twitter Verified'] == True].apply(lambda x: 0 if x is np.nan else x)\n",
    "# journalist"
   ]
  },
  {
   "cell_type": "code",
   "execution_count": 32,
   "metadata": {},
   "outputs": [
    {
     "data": {
      "text/plain": [
       "True     0.996638\n",
       "False    0.003362\n",
       "Name: Professions, dtype: float64"
      ]
     },
     "execution_count": 32,
     "metadata": {},
     "output_type": "execute_result"
    }
   ],
   "source": [
    "# Organizations accounts do not have professions, so we cannot use that to get news media organizations\n",
    "data_3['Professions'][(data_3['Account Type'] == 'organisational') & (data_3['Twitter Verified'] == True)].isna().value_counts(normalize=True)"
   ]
  },
  {
   "cell_type": "code",
   "execution_count": 33,
   "metadata": {},
   "outputs": [],
   "source": [
    "potential_news_org = [i for i in data_3['Author'][(data_3['Account Type'] == 'organisational') & (data_3['Twitter Verified'] == True)].value_counts().index]"
   ]
  },
  {
   "attachments": {},
   "cell_type": "markdown",
   "metadata": {},
   "source": [
    "## To do\n",
    "Create a list of media accounts to match with the other data set"
   ]
  },
  {
   "cell_type": "code",
   "execution_count": 38,
   "metadata": {},
   "outputs": [],
   "source": [
    "individual_verified = [i for i in data_3['Author'][(data_3['Account Type'] == 'individual') & (data_3['Twitter Verified'] == True)].value_counts().index]"
   ]
  },
  {
   "cell_type": "code",
   "execution_count": 126,
   "metadata": {},
   "outputs": [],
   "source": [
    "import re\n",
    "count = 0\n",
    "news_org_list = []\n",
    "check_by_hand = []\n",
    "pattern = re.compile(r'news|abc|cnn|cbs|reuters|AP|times|fox|post|nbc|cnbc|bloomberg|gazette|hours|politico|cspan|politics|msn|journal|Tribune|daily|wsj|yahoo|tv|sun|time|radio|chronicle|herald|today', re.IGNORECASE) \n",
    "for item in potential_news_org:\n",
    "    if pattern.search(item):\n",
    "        news_org_list.append(item)\n",
    "    else:\n",
    "        check_by_hand.append(item)"
   ]
  },
  {
   "cell_type": "code",
   "execution_count": 128,
   "metadata": {},
   "outputs": [],
   "source": [
    "mk_news_org = pd.read_csv('MK/news_accounts_dataset3.csv')\n",
    "mk_news_org = mk_news_org.SENDER.to_list()"
   ]
  },
  {
   "cell_type": "code",
   "execution_count": 132,
   "metadata": {},
   "outputs": [],
   "source": [
    "news_orgs_list2 = []\n",
    "check_by_hand_2 = []\n",
    "for account in check_by_hand:\n",
    "    if account in mk_news_org:\n",
    "      news_orgs_list2.append(account)\n",
    "    else:\n",
    "       check_by_hand_2.append(account)"
   ]
  },
  {
   "cell_type": "code",
   "execution_count": 135,
   "metadata": {},
   "outputs": [],
   "source": [
    "political = []\n",
    "check_by_hand_3 = []\n",
    "pattern = re.compile(r'GOP|Gov|Senate|Senator|Rep', re.IGNORECASE) \n",
    "for item in check_by_hand_2:\n",
    "    if pattern.search(item):\n",
    "        political.append(item)\n",
    "    else:\n",
    "        check_by_hand_3.append(item)\n"
   ]
  },
  {
   "cell_type": "code",
   "execution_count": 145,
   "metadata": {},
   "outputs": [],
   "source": [
    "political + ['RudyGiuliani', 'USDOT', 'ChineseEmbinHU', 'TeamCavuto', 'TheDemCoalition', 'Ohio_OCJS', 'SenSchumer', 'FEMAregion3', 'EPAregion3', 'FDA_ORA']\n",
    "activists = ['PghProtests', 'CleanAirMoms', 'POGOwatchdog', 'genzforchange', 'PatrioticMills', 'TheUSASingers', 'OhioFarmBureau', 'gofundme', 'RevJJackson', 'AAF']\n",
    "other = ['RedCross', 'scifri', 'AmChemistry', 'RedCrossNOH', 'GoyaFoods']"
   ]
  },
  {
   "cell_type": "code",
   "execution_count": 151,
   "metadata": {},
   "outputs": [],
   "source": [
    "news_orgs_list3 = [i for i in check_by_hand_3 if i not in (political + activists + other)]"
   ]
  },
  {
   "cell_type": "code",
   "execution_count": 152,
   "metadata": {},
   "outputs": [],
   "source": [
    "news_org = news_org_list + news_orgs_list2 + news_orgs_list3"
   ]
  },
  {
   "cell_type": "code",
   "execution_count": 154,
   "metadata": {},
   "outputs": [
    {
     "data": {
      "text/plain": [
       "692"
      ]
     },
     "execution_count": 154,
     "metadata": {},
     "output_type": "execute_result"
    }
   ],
   "source": [
    "news_org = list(set(news_org))"
   ]
  },
  {
   "cell_type": "code",
   "execution_count": 155,
   "metadata": {},
   "outputs": [],
   "source": [
    "# Now, from all other accounts (non organizational , verified):"
   ]
  },
  {
   "cell_type": "code",
   "execution_count": 158,
   "metadata": {},
   "outputs": [],
   "source": [
    "individual_verified = [i for i in data_3['Author'][(data_3['Account Type'] == 'individual') & (data_3['Twitter Verified'] == True)].value_counts().index]"
   ]
  },
  {
   "cell_type": "code",
   "execution_count": 160,
   "metadata": {},
   "outputs": [
    {
     "data": {
      "text/plain": [
       "1266"
      ]
     },
     "execution_count": 160,
     "metadata": {},
     "output_type": "execute_result"
    }
   ],
   "source": [
    "len(individual_verified)"
   ]
  },
  {
   "cell_type": "code",
   "execution_count": 161,
   "metadata": {},
   "outputs": [],
   "source": [
    "individual_verified = [i for i in individual_verified if i not in (news_org + political + activists + other)]"
   ]
  },
  {
   "cell_type": "code",
   "execution_count": 175,
   "metadata": {},
   "outputs": [],
   "source": [
    "import re\n",
    "count = 0\n",
    "news_ind_list = []\n",
    "check_by_hand_ind = []\n",
    "pattern = re.compile(r'news|abc|cnn|cbs|reuters|AP|times|fox|post|nbc|cnbc|bloomberg|chron|gazette|hours|politico|cspan|politics|msn|journal|Tribune|daily|wsj|yahoo|tv|sun|time|radio|chronicle|herald|today', re.IGNORECASE) \n",
    "for item in individual_verified:\n",
    "    if pattern.search(item):\n",
    "        news_ind_list.append(item)\n",
    "    else:\n",
    "        check_by_hand_ind.append(item)"
   ]
  },
  {
   "cell_type": "code",
   "execution_count": 176,
   "metadata": {},
   "outputs": [
    {
     "data": {
      "text/plain": [
       "214"
      ]
     },
     "execution_count": 176,
     "metadata": {},
     "output_type": "execute_result"
    }
   ],
   "source": [
    "len(news_ind_list)"
   ]
  },
  {
   "cell_type": "code",
   "execution_count": 185,
   "metadata": {},
   "outputs": [],
   "source": [
    "news = news_org + news_ind_list"
   ]
  },
  {
   "cell_type": "code",
   "execution_count": 177,
   "metadata": {},
   "outputs": [
    {
     "data": {
      "text/plain": [
       "1052"
      ]
     },
     "execution_count": 177,
     "metadata": {},
     "output_type": "execute_result"
    }
   ],
   "source": [
    "len(check_by_hand_ind)"
   ]
  },
  {
   "cell_type": "code",
   "execution_count": 181,
   "metadata": {},
   "outputs": [],
   "source": [
    "political_ind = []\n",
    "check_by_hand_ind2 = []\n",
    "pattern = re.compile(r'GOP|Gov|Senate|Senator|Rep|Sen|EPA', re.IGNORECASE) \n",
    "for item in check_by_hand_ind:\n",
    "    if pattern.search(item):\n",
    "        political_ind.append(item)\n",
    "    else:\n",
    "        check_by_hand_ind2.append(item)"
   ]
  },
  {
   "cell_type": "code",
   "execution_count": 182,
   "metadata": {},
   "outputs": [
    {
     "data": {
      "text/plain": [
       "66"
      ]
     },
     "execution_count": 182,
     "metadata": {},
     "output_type": "execute_result"
    }
   ],
   "source": [
    "len(political_ind)"
   ]
  },
  {
   "cell_type": "code",
   "execution_count": 186,
   "metadata": {},
   "outputs": [],
   "source": [
    "politics = political + political_ind"
   ]
  },
  {
   "cell_type": "code",
   "execution_count": 183,
   "metadata": {},
   "outputs": [
    {
     "data": {
      "text/plain": [
       "['KDKA',\n",
       " 'darreldrowland',\n",
       " 'WTAE',\n",
       " 'axios',\n",
       " 'joedonatelli',\n",
       " 'WDTN',\n",
       " 'prem_thakker',\n",
       " 'tatecurtis',\n",
       " 'MotherJones',\n",
       " 'WLOS_13',\n",
       " 'dayton247now',\n",
       " 'KimWendel',\n",
       " 'DC_DeWitt',\n",
       " 'Enquirer',\n",
       " 'enckj',\n",
       " 'WPXI',\n",
       " 'jacobin',\n",
       " 'chrispugh3',\n",
       " 'Funkwrite',\n",
       " 'TaylorPopielarz',\n",
       " 'JordanChariton',\n",
       " 'dansewell',\n",
       " 'WCPO',\n",
       " 'TylerWTOV9',\n",
       " 'AR_Shoemaker',\n",
       " 'notebrooks',\n",
       " 'AustinKellerman',\n",
       " 'kylenabecker',\n",
       " 'Morning_Joe',\n",
       " 'Bruno_J_Navarro',\n",
       " 'Wrschgn',\n",
       " 'theblaze',\n",
       " 'WGAL',\n",
       " 'DenverChannel',\n",
       " 'CindyLSchroeder',\n",
       " 'bennyjohnson',\n",
       " 'ChloeWTOV9',\n",
       " 'townhallcom',\n",
       " 'sleavenworth',\n",
       " 'Phil_Lewis_',\n",
       " 'joshboak',\n",
       " 'c_m_dangelo',\n",
       " 'LucyMayCincy',\n",
       " 'wcti12',\n",
       " 'Tylerjoelb',\n",
       " 'victoriaamwood',\n",
       " 'DariusRadzius',\n",
       " 'KWWL',\n",
       " 'WLTX',\n",
       " 'davidsirota',\n",
       " 'jbalmert',\n",
       " 'TheProspect',\n",
       " 'KatieJoCox',\n",
       " 'ninaturner',\n",
       " 'RobertKennedyJr',\n",
       " 'sabrinaeaton',\n",
       " 'hekasia',\n",
       " 'LynnHulseyDDN',\n",
       " '_SemaHernandez_',\n",
       " 'MarkieMartin',\n",
       " 'Harpers',\n",
       " 'KevinBogardus',\n",
       " 'GeoffRBennett',\n",
       " '23WIFR',\n",
       " 'propublica',\n",
       " 'cweiser',\n",
       " 'bylizyoung',\n",
       " 'davelevitan',\n",
       " 'Zhirji28',\n",
       " 'Earthjustice',\n",
       " 'wdsu',\n",
       " 'Logan_Ratick',\n",
       " 'tomwsyx6',\n",
       " 'foodandwater',\n",
       " 'WTHRcom',\n",
       " 'ThePlumLineGS',\n",
       " 'haleybemiller',\n",
       " 'ClevelandScene',\n",
       " 'BillGRinehart',\n",
       " 'voxdotcom',\n",
       " 'theferocity',\n",
       " 'FreeBeacon',\n",
       " 'deborahblum',\n",
       " 'RNCResearch',\n",
       " 'JunkScience',\n",
       " 'MatthewDalyWDC',\n",
       " 'DineshDSouza',\n",
       " 'tdemio',\n",
       " 'WTNH',\n",
       " 'colleenhagerty',\n",
       " 'msantoni',\n",
       " 'starwatchtim',\n",
       " 'SydneyDawesSNS',\n",
       " 'nwarikoo',\n",
       " 'Salem4Congress',\n",
       " 'meverhart26',\n",
       " 'ssdance',\n",
       " 'lizcgoodwin',\n",
       " 'Porter_Anderson',\n",
       " 'EPWCmte',\n",
       " 'kriswernowsky',\n",
       " 'NY1',\n",
       " 'TiffanyAlaniz',\n",
       " 'KateWSYX6',\n",
       " 'jimstinson',\n",
       " '_esaliba',\n",
       " 'IsabelleWSYX6',\n",
       " 'gatewaypundit',\n",
       " 'fark',\n",
       " 'NRO',\n",
       " 'WESH',\n",
       " 'akarl_smith',\n",
       " 'grantstern',\n",
       " 'MikeUlmer',\n",
       " 'RyanDeto',\n",
       " 'james_levinson',\n",
       " 'adamwren',\n",
       " 'StaciaWSYX6',\n",
       " 'estherfung',\n",
       " 'jpelzer',\n",
       " 'JasonAbbruzzese',\n",
       " 'cjbuchman',\n",
       " 'JackPosobiec',\n",
       " 'PoliticusSarah',\n",
       " 'AHasan46',\n",
       " 'PatrickDotWeb',\n",
       " 'LCVoters',\n",
       " 'HerbScribner',\n",
       " 'WFMY',\n",
       " 'motherboard',\n",
       " '13WREX',\n",
       " 'TPPatriots',\n",
       " 'amritabhinder',\n",
       " 'lbischoff',\n",
       " 'k_mosbrucker',\n",
       " 'WLKY',\n",
       " 'ConnieSchultz',\n",
       " 'Deseret',\n",
       " 'PhilipWegmann',\n",
       " 'BBGEquality',\n",
       " 'rrpre',\n",
       " 'openletterbot',\n",
       " 'InsideEdition',\n",
       " 'McDanielJustine',\n",
       " 'fawfulfan',\n",
       " 'todd_djohnson',\n",
       " 'CatoInstitute',\n",
       " 'TomFitton',\n",
       " 'lramseth',\n",
       " 'CEDickson',\n",
       " 'WCCO',\n",
       " 'KSBY',\n",
       " 'theMRC',\n",
       " 'SecretaryPete',\n",
       " 'ColMorrisDavis',\n",
       " 'SarahKBOI',\n",
       " 'PEMAHQ',\n",
       " 'PaulHyde7',\n",
       " 'ESCochrane',\n",
       " 'astockeyWTAE',\n",
       " 'RevYearwood',\n",
       " 'JasonMillerinDC',\n",
       " 'LouDobbs',\n",
       " 'RachelFrazin',\n",
       " 'PodSaveAmerica',\n",
       " 'benpershing',\n",
       " 'FrankLuntz',\n",
       " 'andrwfhenderson',\n",
       " 'LouiseB_NY',\n",
       " 'emilyjashinsky',\n",
       " 'DoinaChiacu',\n",
       " 'glastris',\n",
       " 'HomaBashWEWS',\n",
       " 'Robillard',\n",
       " 'TrueFactsStated',\n",
       " 'NatalieFahmy',\n",
       " 'PalimenoForGAD1',\n",
       " 'jbakerohio',\n",
       " 'NiceDeb',\n",
       " 'meganaloe',\n",
       " 'carriecochran',\n",
       " 'PaHouseDems',\n",
       " 'greenblattmark',\n",
       " 'RichMcHugh',\n",
       " 'Will_Bunch',\n",
       " 'ClayTravis',\n",
       " 'KTLA',\n",
       " 'KLFY',\n",
       " 'RichNegrin',\n",
       " 'CW39Houston',\n",
       " 'lauren_linder',\n",
       " 'joesampaul',\n",
       " 'mrtgr',\n",
       " 'colinjones',\n",
       " 'asmeltz',\n",
       " 'petemuntean',\n",
       " 'cassienist',\n",
       " 'realchriswilson',\n",
       " 'SteveHiltonx',\n",
       " 'kurtsteiss',\n",
       " 'indystar',\n",
       " 'amuse',\n",
       " 'mmpadellan',\n",
       " 'sara_dorn',\n",
       " 'TheAtlantic',\n",
       " 'ARmastrangelo',\n",
       " 'latams',\n",
       " 'MichaelJShearer',\n",
       " 'ForTexasHoujami',\n",
       " 'stillgray',\n",
       " 'brad_polumbo',\n",
       " 'BLaw',\n",
       " 'MegStEsprit',\n",
       " 'mel_buer',\n",
       " 'JenMolina46',\n",
       " 'HipHopCaucus',\n",
       " 'Curbed',\n",
       " 'OHHouseDems',\n",
       " 'KellyRippin',\n",
       " '_StephanieHaney',\n",
       " 'mattyglesias',\n",
       " 'ClarkeAtAmerica',\n",
       " 'LindseyMills7',\n",
       " 'MorganLBrennan',\n",
       " 'TrumpWarRoom',\n",
       " 'DEADLINE',\n",
       " 'ChloeNordquist',\n",
       " 'innovationohio',\n",
       " 'ProgressOhio',\n",
       " 'michaelcdeibert',\n",
       " 'kristileilani',\n",
       " 'Jim_Jordan',\n",
       " 'WVNYWFFF',\n",
       " 'DanSpehler',\n",
       " 'AnthonyWCHS',\n",
       " 'KOAA',\n",
       " 'carlquintanilla',\n",
       " 'byconnorgiffin',\n",
       " 'MonaSalama_',\n",
       " 'TSnyderDC',\n",
       " 'JohnnyAkzam',\n",
       " 'seanhannity',\n",
       " 'bymarkwalker',\n",
       " 'lizbrownkaiser',\n",
       " 'pgh2o',\n",
       " 'JoeBarracato',\n",
       " 'GaryGrumbach',\n",
       " 'WKRG',\n",
       " 'MarcMullins1',\n",
       " 'cristymsilva',\n",
       " 'wvua23',\n",
       " 'UCSUSA',\n",
       " 'justicedems',\n",
       " 'jamesjrogers',\n",
       " 'jason_koebler',\n",
       " 'Jalopnik',\n",
       " 'OpenSecretsDC',\n",
       " 'KT_Tercek',\n",
       " 'Millie__Weaver',\n",
       " 'ReshadHudson',\n",
       " 'leagueofcities',\n",
       " 'TamikaCody',\n",
       " 'ScottWartman',\n",
       " 'rebareis',\n",
       " 'KVOA',\n",
       " 'TALK1370',\n",
       " 'ginaglaros',\n",
       " 'mh4oh',\n",
       " 'MrDanZak',\n",
       " 'Azi',\n",
       " 'PennLive',\n",
       " 'MarkOlalde',\n",
       " 'BySteveReilly',\n",
       " 'HaleyWSYX6',\n",
       " 'DrEricDing',\n",
       " 'dansokil',\n",
       " 'AJPennyfarthing',\n",
       " 'LindseyBoylan',\n",
       " 'NSheidlower',\n",
       " 'crackedscience',\n",
       " 'dunleamark',\n",
       " 'alexcoolidge',\n",
       " 'KateMilani',\n",
       " 'snopes',\n",
       " 'ElectMattDolan',\n",
       " 'M_Trevithick',\n",
       " 'NidhiSubs',\n",
       " 'WalshFreedom',\n",
       " 'andrewglobal',\n",
       " 'JillGeisler',\n",
       " 'CrispinHavener',\n",
       " 'karmanomad',\n",
       " 'ismithKDKA',\n",
       " 'SchulteLaura',\n",
       " 'boston25',\n",
       " 'Labroots',\n",
       " 'WallStreetSilv',\n",
       " 'dannowicki',\n",
       " 'crystalxlau',\n",
       " 'ThePressofAC',\n",
       " 'DylanBouscher',\n",
       " 'ChadPergram',\n",
       " 'BrittanyKPeters',\n",
       " 'iboudreau',\n",
       " 'TweeetLorraine',\n",
       " 'LPTexas',\n",
       " 'joanwalsh',\n",
       " 'DeanObeidallah',\n",
       " 'kyliesparks',\n",
       " 'Teamsters',\n",
       " 'cambio',\n",
       " 'EVYSTADIUM',\n",
       " 'chriskrokshow',\n",
       " 'EliseStefanik',\n",
       " 'chorswell',\n",
       " 'annaazallion',\n",
       " 'OurRevolution',\n",
       " 'josephcneff',\n",
       " 'BarmakN',\n",
       " 'KristenSkovira',\n",
       " 'irenecnwoye',\n",
       " 'BenjaminNorton',\n",
       " 'thedrive',\n",
       " 'dceiver',\n",
       " 'mattkbh',\n",
       " 'hemingquay',\n",
       " 'miguelmarquez',\n",
       " 'MorningsMaria',\n",
       " 'Kymon5',\n",
       " 'JanJekielek',\n",
       " 'brady_dennis',\n",
       " 'S_Fitzpatrick',\n",
       " 'JamesSantelli',\n",
       " 'WAVY10Bob',\n",
       " 'ChristianWKRC12',\n",
       " 're_ari',\n",
       " 'danahull',\n",
       " 'JoshSweigart',\n",
       " 'JamilSmith',\n",
       " 'cameronghood',\n",
       " 'MoisesFenty',\n",
       " 'MrMokelly',\n",
       " 'robertliefeld',\n",
       " 'AnAndyPaul',\n",
       " 'abbyvesoulis',\n",
       " 'Will_Flannigan',\n",
       " 'ScottMPatterson',\n",
       " 'BrianSimsPA',\n",
       " 'jordanzakarin',\n",
       " 'Ian_Fraser',\n",
       " 'Omar_fromPR',\n",
       " 'danielpetty',\n",
       " 'Yanky_Pollak',\n",
       " 'Rschooley',\n",
       " 'PamelaGeller',\n",
       " 'TimWHarris',\n",
       " 'lootpress',\n",
       " 'AlBernstein',\n",
       " 'DinahVP',\n",
       " 'CostaSamaras46',\n",
       " 'MegaDarren',\n",
       " 'FRCdc',\n",
       " 'maeganvaz',\n",
       " 'VinceCoglianese',\n",
       " 'elizacollins1',\n",
       " 'Morgan_C_Ross',\n",
       " 'iskandrah',\n",
       " 'SocialKimLy',\n",
       " 'Mike_Pence',\n",
       " 'RealDLHughley',\n",
       " 'Heritage',\n",
       " 'TrevorHughes',\n",
       " '_Zeets',\n",
       " 'cenmag',\n",
       " 'redsteeze',\n",
       " 'BillyHeyen',\n",
       " 'maryannbatlle',\n",
       " 'elguante',\n",
       " 'PoolOnTheRuf',\n",
       " 'MeghanKDKA',\n",
       " 'ByAnnaMeyer',\n",
       " 'charlesornstein',\n",
       " 'vickorano',\n",
       " 'addedvalueth',\n",
       " 'BWestbrookAZ8',\n",
       " 'Hipstercrite',\n",
       " 'kokasexton',\n",
       " 'atrupar',\n",
       " 'rjamesfinn',\n",
       " 'butlersheriff',\n",
       " 'DebbieatEMA',\n",
       " 'martyswant',\n",
       " 'ibogost',\n",
       " 'OHdeptofhealth',\n",
       " 'DohaMadani',\n",
       " 'MichelleFranzen',\n",
       " 'Bakari_Sellers',\n",
       " 'amichaelswx',\n",
       " 'GabrielleMediak',\n",
       " 'JDVance1',\n",
       " 'TC_CLE',\n",
       " 'charliekirk11',\n",
       " 'WTEN',\n",
       " 'snmrrw',\n",
       " 'aropeik',\n",
       " 'ariellec',\n",
       " 'wunc',\n",
       " 'StribGuy',\n",
       " 'NickVeronica',\n",
       " 'greenpeaceusa',\n",
       " 'JeffRichgels',\n",
       " 'kenvogel',\n",
       " 'JessElizarraras',\n",
       " 'danielmarans',\n",
       " 'OfficialJValle',\n",
       " 'IBDinvestors',\n",
       " 'MattPieper',\n",
       " 'WQOW',\n",
       " 'RealErinCruz',\n",
       " 'svdate',\n",
       " 'alec_sears',\n",
       " 'eliza_relman',\n",
       " 'woodhouseb',\n",
       " 'joelpollak',\n",
       " 'GreaterBoston',\n",
       " 'BastianBrauns',\n",
       " 'KevinBohn',\n",
       " 'emilyngo',\n",
       " 'NorthCarolinaGP',\n",
       " 'tron',\n",
       " 'Betsy_McCaughey',\n",
       " 'KavalerTara',\n",
       " 'nicoleperlroth',\n",
       " 'krisseavers',\n",
       " 'KDORR_USA',\n",
       " 'Alex_Presha',\n",
       " 'emilyekins',\n",
       " 'BaronDestructo',\n",
       " 'ZanderKelly30',\n",
       " 'SeanEiler',\n",
       " 'DennisRoady',\n",
       " 'tychehendricks',\n",
       " 'AndyBxxx',\n",
       " 'tracegallagher',\n",
       " 'CalebHowe',\n",
       " 'RDorseyCraig46',\n",
       " 'GeraldoRivera',\n",
       " 'JamesMelville',\n",
       " 'BrianWalkerDC',\n",
       " 'KendraWrites',\n",
       " 'JustinWeather',\n",
       " 'Hermans_House',\n",
       " 'chinamoses',\n",
       " 'danielchaitin7',\n",
       " 'SierraClub',\n",
       " 'ellenmhine',\n",
       " 'JamiraBurley',\n",
       " 'JanelleHallWTAE',\n",
       " 'efitriger',\n",
       " 'KhayaHimmelman',\n",
       " 'WorkingFamilies',\n",
       " 'RamajEroc',\n",
       " 'p_orsagos',\n",
       " 'Kyle_Beachy',\n",
       " 'TimothyNoah1',\n",
       " 'petermaer',\n",
       " 'maxwellstrachan',\n",
       " 'Natalie81174765',\n",
       " 'MarcusGreenWDRB',\n",
       " 'joshvisser',\n",
       " 'roshantone',\n",
       " 'reblavoie',\n",
       " 'DavidPepper',\n",
       " 'KaylaEpstein',\n",
       " 'BretBaier',\n",
       " 'lavern_spicer',\n",
       " 'StephenJ_Caruso',\n",
       " 'arielplotnick',\n",
       " 'hannahmiao_',\n",
       " 'nycjim',\n",
       " 'agarrettABJ',\n",
       " 'djrelentt',\n",
       " 'Tati_WM',\n",
       " 'JoeHeim',\n",
       " 'kbriquelet',\n",
       " 'michaelkruse',\n",
       " 'KristinaSaurusR',\n",
       " 'LucasAulbach',\n",
       " 'Conservativeind',\n",
       " 'AndrewBuncombe',\n",
       " 'ErickFernandez',\n",
       " 'Kris_Maher',\n",
       " 'Hanhonymous',\n",
       " 'JenCalfas',\n",
       " 'RahRahRaina',\n",
       " 'RealTimBlack',\n",
       " 'histoftech',\n",
       " 'isaacstanbecker',\n",
       " 'SmoosieQ',\n",
       " 'Theodore_Decker',\n",
       " 'amycrea',\n",
       " 'DavidHighfield',\n",
       " 'BigJoeBastardi',\n",
       " 'badiucao',\n",
       " 'ByEshaRay',\n",
       " 'WV_DHHR',\n",
       " 'thetaylaur',\n",
       " 'AbbeyMarshall',\n",
       " 'PhillyJoeD',\n",
       " 'SollenbergerRC',\n",
       " 'Jen_e_Smith',\n",
       " 'karenhunter',\n",
       " 'HCEMA',\n",
       " 'wusfschreiner',\n",
       " 'StephanieRit',\n",
       " 'americamag',\n",
       " 'TalKopan',\n",
       " 'DarickR',\n",
       " 'ZaleskiLuke',\n",
       " 'JamesTHarris',\n",
       " 'LaurenWitzkeDE',\n",
       " 'danvock',\n",
       " 'Jake_Bernstein',\n",
       " 'MaxKennerly',\n",
       " 'IdahoStatesman',\n",
       " 'IamTravisNelson',\n",
       " 'ArielWittenberg',\n",
       " 'RyanBretonWX',\n",
       " 'JHBaran',\n",
       " 'AymanM',\n",
       " 'donwinslow',\n",
       " 'robdelaney',\n",
       " 'Saleen_Martin',\n",
       " 'leotrasande',\n",
       " 'deerhoof',\n",
       " 'SaraCarterDC',\n",
       " 'TylerCalver',\n",
       " 'M1PowerSports',\n",
       " 'GrahamStarr',\n",
       " 'HarryRBurger',\n",
       " 'jeffgoodell',\n",
       " 'MarisaKabas',\n",
       " 'rachaelgleason',\n",
       " 'BrentNYT',\n",
       " 'HeyTammyBruce',\n",
       " 'MarioNawfal',\n",
       " 'BlakeBurman',\n",
       " 'BerniceCBC',\n",
       " 'robbystarbuck',\n",
       " 'AdrianWhitsett',\n",
       " 'jwilliamscincy',\n",
       " 'BIZPACReview',\n",
       " 'TianaTheFirst',\n",
       " 'ShereeWLWT',\n",
       " 'StevenACohen',\n",
       " 'US933',\n",
       " 'zdroberts',\n",
       " 'ByGeorgeThomas',\n",
       " 'writerknowles',\n",
       " 'EmoryRollins',\n",
       " 'Bret_Buganski',\n",
       " 'JordanUhl',\n",
       " 'alfonslopeztena',\n",
       " 'MaxMillerOH',\n",
       " 'CoachBru',\n",
       " 'natashakorecki',\n",
       " 'AntonioArellano',\n",
       " 'thor_benson',\n",
       " 'DaveYostOH',\n",
       " 'fatimatlis',\n",
       " 'cflav',\n",
       " 'RealKyleMorris',\n",
       " 'sarallana',\n",
       " 'JohnLegere',\n",
       " 'Eileen_McClory',\n",
       " 'left_voice',\n",
       " 'jaycaspiankang',\n",
       " 'byHeatherLong',\n",
       " 'emilybell',\n",
       " 'ceciliakcecilia',\n",
       " 'realmonsanto',\n",
       " 'ksheekey',\n",
       " 'SPSalisbury',\n",
       " 'CityLab',\n",
       " 'michaelmalice',\n",
       " 'jeffihaza',\n",
       " 'LydiaTaylrr',\n",
       " 'davidrlurie',\n",
       " 'lindsaywise',\n",
       " 'WriterBonnie',\n",
       " 'GRogow',\n",
       " 'forbeshealth',\n",
       " 'WITN',\n",
       " 'Katiera_Winfrey',\n",
       " 'pbump',\n",
       " 'chrisabraham',\n",
       " 'RonSmileyWx',\n",
       " 'ChineseZimbabwe',\n",
       " 'SeanatGreenwire',\n",
       " 'dealbook',\n",
       " 'GeoffYoung4KY',\n",
       " 'jenvandenhouten',\n",
       " 'KellyO',\n",
       " 'PghLesbian24',\n",
       " 'JKuenzie',\n",
       " 'megankhenry',\n",
       " 'Miller_Congress',\n",
       " 'JackMacCFB',\n",
       " 'RileyMooreWV',\n",
       " 'marcscribner',\n",
       " 'ighaworth',\n",
       " 'TiffanyTarpley',\n",
       " 'KTNV',\n",
       " 'CostasParis',\n",
       " 'princetonian',\n",
       " 'RoKhanna',\n",
       " 'alaynatreene',\n",
       " 'THESKY973DOTCOM',\n",
       " 'MollyJongFast',\n",
       " 'Maggie_Vespa',\n",
       " 'LindsayTuchman',\n",
       " 'GeorgeColli',\n",
       " 'mychaelschnell',\n",
       " 'Jdharden',\n",
       " 'SarahBurris',\n",
       " 'ccadelago',\n",
       " 'court_bennett11',\n",
       " 'michaelcoleman',\n",
       " 'WSPA7',\n",
       " 'mpukita',\n",
       " 'MichelleAlf',\n",
       " 'ByJohnLMicek',\n",
       " 'NC5',\n",
       " 'randimarshall',\n",
       " 'HenryJGomez',\n",
       " 'PatRyanUC',\n",
       " 'timperone',\n",
       " 'alex_sammon',\n",
       " 'kevinaccettulla',\n",
       " 'KHQA',\n",
       " 'NewDemCoalition',\n",
       " 'bobclendenin',\n",
       " 'KannoYoungs',\n",
       " 'Emma_Dumain',\n",
       " 'OversightDems',\n",
       " 'RobertRayWisdom',\n",
       " 'MVielhaber',\n",
       " 'DebbieLesko',\n",
       " 'WGME',\n",
       " 'rontkim',\n",
       " 'DiamondandSilk',\n",
       " '770KTTH',\n",
       " 'mleemelendez',\n",
       " 'tlrd',\n",
       " 'randyessex',\n",
       " 'Zachary_Cohen',\n",
       " 'mikiebarb',\n",
       " 'ValerieRussDN',\n",
       " 'marcelolprince',\n",
       " 'Edpilkington',\n",
       " 'julieklausner',\n",
       " 'VoteHafner',\n",
       " 'RickAnderson',\n",
       " 'ElissaSlotkin',\n",
       " 'NileGardiner',\n",
       " 'JimVandeHei',\n",
       " 'seungminkim',\n",
       " 'EgbertoWillies',\n",
       " 'Adam247Now',\n",
       " 'ataviawrotethis',\n",
       " 'BeauMattLaFave',\n",
       " 'PADEPSecretary',\n",
       " 'NickRiccardi',\n",
       " 'DTheKingpin',\n",
       " 'Chris_WTHI',\n",
       " 'RichLowry',\n",
       " 'heathershorn',\n",
       " 'ThirdWayKessler',\n",
       " 'jake_zuckerman',\n",
       " 'tommcdermottjr',\n",
       " '13WHAM',\n",
       " 'jimmurphySF',\n",
       " 'kenklippenstein',\n",
       " 'JamesVGrimaldi',\n",
       " 'BobBrigham',\n",
       " 'WxBrenn',\n",
       " 'GrantdeBruin82',\n",
       " 'KentKSmith',\n",
       " 'JeremyFaison4TN',\n",
       " 'jessehixxx',\n",
       " 'alisciaandrews',\n",
       " 'votedegrammont',\n",
       " 'NickAdamsinUSA',\n",
       " 'BriannaForCO',\n",
       " 'rumpfshaker',\n",
       " 'DUANEALLEN',\n",
       " 'MikeStuartWV',\n",
       " 'justin4all2',\n",
       " 'MsAConner',\n",
       " 'tamuvetmed',\n",
       " 'AndrewGiambrone',\n",
       " 'gary_weiss',\n",
       " 'ReedDunlea',\n",
       " 'Charress',\n",
       " 'usmayors',\n",
       " 'BrookingsEcon',\n",
       " 'reesejgorman',\n",
       " 'KFILE',\n",
       " 'RandyLudlow',\n",
       " 'mcwm',\n",
       " 'MeredithLClark',\n",
       " 'ANNIKA59',\n",
       " 'LJMoynihan',\n",
       " 'Laurie_Garrett',\n",
       " 'voteSmitherman',\n",
       " 'HowieHawkins',\n",
       " 'kenyonfarrow',\n",
       " 'Waconzy',\n",
       " 'JeffVaughn',\n",
       " 'AlexSanz',\n",
       " 'CongressmanRaja',\n",
       " 'JonWVTM13',\n",
       " 'JonathanTamari',\n",
       " 'JudicialWatch',\n",
       " 'KOCOZach',\n",
       " 'MichaelEMann',\n",
       " 'HardDriveMag',\n",
       " 'Elisse_Ramey',\n",
       " 'TristanSnell',\n",
       " 'AngelyMercado',\n",
       " 'tomborelli',\n",
       " 'EARTH3R',\n",
       " 'srussolillo',\n",
       " 'GlobalNational',\n",
       " 'DrewScofield01',\n",
       " 'JBaker_WTOV',\n",
       " 'PaulPage',\n",
       " 'carlimi',\n",
       " 'jessicalbenham',\n",
       " 'AlphonsoDavid',\n",
       " 'awalkerinLA',\n",
       " 'WalkerATX',\n",
       " 'patrickdmarley',\n",
       " '_StephanieMyers',\n",
       " 'RickDucat_TDAN',\n",
       " 'drdavidmichaels',\n",
       " 'lohud',\n",
       " 'erikgunn',\n",
       " 'collins_ink',\n",
       " 'ACTBrigitte',\n",
       " 'MarkEichmann',\n",
       " 'drdrew',\n",
       " 'AlexPadilla4CA',\n",
       " 'sara_bee',\n",
       " 'RobertBryan4',\n",
       " 'JackieWSYX6',\n",
       " 'kheller',\n",
       " 'mlavelles',\n",
       " 'lil_byington',\n",
       " 'katierogers',\n",
       " 'SooRinKimm',\n",
       " 'Santucci',\n",
       " 'AWCities',\n",
       " 'davecclarke',\n",
       " 'AnnahBackstrom',\n",
       " 'KristenEskow',\n",
       " 'POPVOX',\n",
       " 'frankthorp',\n",
       " 'heatherscope',\n",
       " 'AsmLuzRivas',\n",
       " 'cafedotcom',\n",
       " 'BenjiSJones',\n",
       " 'WDEL',\n",
       " 'JoeStGeorge',\n",
       " 'libcasey',\n",
       " 'AKirklen',\n",
       " 'DZulkosky',\n",
       " 'julialindau',\n",
       " 'sheaschrader',\n",
       " 'AnthonyAdragna',\n",
       " 'lehighvalley',\n",
       " 'gretacrossphoto',\n",
       " 'KenMatthews',\n",
       " 'JeffreyGuterman',\n",
       " 'KellyAnnScott',\n",
       " 'billineastala',\n",
       " 'laurenpeikoff',\n",
       " 'scottwongDC',\n",
       " 'taylor_reidy',\n",
       " 'CREWcrew',\n",
       " 'rmeszoly',\n",
       " 'GoldsmithB',\n",
       " 'KiraBind',\n",
       " 'qrwriter',\n",
       " 'RedState',\n",
       " 'jasonrantz',\n",
       " 'NikatinePrime',\n",
       " 'yitgordon',\n",
       " 'ElizLanders',\n",
       " 'DanielStrauss4',\n",
       " 'lizpeek',\n",
       " 'NatCounterPunch',\n",
       " 'BlockClubCHI',\n",
       " 'ryanlcooper',\n",
       " 'WajahatAli',\n",
       " 'patrickwitty',\n",
       " 'RandiRhodes',\n",
       " 'marcusgilmer',\n",
       " 'amyewalter',\n",
       " 'danielsilliman',\n",
       " 'MrJohnFlowers',\n",
       " 'AlexGangitano',\n",
       " 'HoustonKeene',\n",
       " 'christinespolar',\n",
       " 'aya_elamroussi',\n",
       " 'Arightside',\n",
       " 'deantscott',\n",
       " 'jordainc',\n",
       " 'PennsylvaniaDEP',\n",
       " 'mbieseck',\n",
       " 'anrao',\n",
       " 'resistbot',\n",
       " 'susanmbryanNM',\n",
       " 'DJJudd',\n",
       " 'MickiMaynard',\n",
       " 'simonshaykhet',\n",
       " 'davemistich',\n",
       " 'adrierising',\n",
       " 'Carrpediem21',\n",
       " 'GrantHermes',\n",
       " 'pat_laFleur',\n",
       " 'RussWKYC',\n",
       " 'ReadingEagle',\n",
       " 'jasmlaughlin',\n",
       " 'AVHndz',\n",
       " 'charlielangton',\n",
       " 'fastlerner',\n",
       " 'sivavaid',\n",
       " 'dpfunke',\n",
       " 'carynrose',\n",
       " 'MarkRuffalo',\n",
       " 'myfairobserver',\n",
       " 'LoughnaneB',\n",
       " 'audreyjcarleton',\n",
       " 'amiller78',\n",
       " 'Liz_Wheeler',\n",
       " 'OmarRiverosays',\n",
       " 'juliaajohnson_',\n",
       " '_BizBaz',\n",
       " 'PaulRieckhoff',\n",
       " 'remawriter',\n",
       " 'JuddLegum',\n",
       " 'JasonLeopold',\n",
       " 'paulleary',\n",
       " 'stephenasmith',\n",
       " 'HowardKurtz',\n",
       " 'RobbinSimmons7',\n",
       " 'WilkowMajority',\n",
       " 'HLCityhall',\n",
       " 'llewhinkes',\n",
       " 'John_Walton_',\n",
       " 'stephaniemlee',\n",
       " 'AriNatter',\n",
       " 'DemSocialists',\n",
       " 'thedavidrindexp',\n",
       " 'therealautoblog',\n",
       " 'jjboggs',\n",
       " 'Nisheeth_U',\n",
       " 'press4change',\n",
       " 'stephengoin',\n",
       " 'RBReich',\n",
       " 'llmiller12',\n",
       " 'jonathanweisman',\n",
       " 'GreenwichRTC',\n",
       " 'KXLH',\n",
       " '13DavidAlan',\n",
       " 'mirandadevine',\n",
       " 'MarkPuente',\n",
       " 'SarahCavender',\n",
       " 'jennybethm',\n",
       " 'rollcall',\n",
       " 'JohnMorganESQ',\n",
       " 'JenniferStefano',\n",
       " 'continetti',\n",
       " 'DRBoguslaw',\n",
       " 'dlknowles',\n",
       " 'ADuralde',\n",
       " 'KELLYWEILL',\n",
       " 'AmyKremer',\n",
       " 'RachaelBL',\n",
       " 'NushratR',\n",
       " 'Thom_Hartmann',\n",
       " 'IndyStarSarah',\n",
       " 'ThomasReeseSJ',\n",
       " 'Mike_Canan',\n",
       " 'Loughy_D',\n",
       " 'Ben_Geman',\n",
       " 'KateBerner46',\n",
       " 'peterbakernyt',\n",
       " 'ChadLivengood',\n",
       " 'ByJamesHowellJr',\n",
       " 'angelaganote',\n",
       " '93wibc',\n",
       " 'YossiGestetner',\n",
       " 'BWilliLiou',\n",
       " 'andpicon',\n",
       " 'jimandsamshow',\n",
       " 'paulkrugman',\n",
       " 'stephaniealai',\n",
       " 'thejimjams',\n",
       " 'LizBrownUS',\n",
       " 'brandonsblog',\n",
       " 'NewEconomics',\n",
       " 'crooksandliars',\n",
       " 'phl17',\n",
       " 'davelevinthal',\n",
       " 'EricMGarcia',\n",
       " 'MaryKReinhart',\n",
       " 'TomNamako',\n",
       " 'NoahCRothman',\n",
       " 'Lis_Smith',\n",
       " 'petersagal',\n",
       " 'eddiekilroyjr',\n",
       " 'JaredEMoskowitz',\n",
       " 'briebriejoy',\n",
       " 'GeorgiaLogCabin',\n",
       " 'KendallRaeOnYT',\n",
       " 'newtgingrich',\n",
       " 'GooRee',\n",
       " 'NormOrnstein',\n",
       " 'seanspicer',\n",
       " 'TwitchyTeam',\n",
       " 'candynotcandace',\n",
       " 'phillipmbailey',\n",
       " 'RobTornoe',\n",
       " 'mchalfant16',\n",
       " 'sarahstankorb',\n",
       " 'sarahfenske',\n",
       " 'indystartony',\n",
       " 'mj_charper',\n",
       " 'maximillian_alv',\n",
       " 'GeorgeSolis',\n",
       " 'beecycles',\n",
       " 'RachelBitecofer',\n",
       " 'LarrySharpe',\n",
       " 'KellyVaughen',\n",
       " 'JohnWesleyShipp',\n",
       " 'MichaelSalfino',\n",
       " 'toddntucker',\n",
       " 'tripgabriel',\n",
       " 'JackWeingart',\n",
       " 'eschwartzberg',\n",
       " 'jonnajarian',\n",
       " 'OpenSociety',\n",
       " 'JohnJHarwood',\n",
       " 'LaShondraTinsl1',\n",
       " 'RobEngstrom',\n",
       " 'TaraServatius',\n",
       " 'WWJ950',\n",
       " 'gingerthomp1',\n",
       " 'MarkSteynOnline',\n",
       " 'BWRiverkeeper',\n",
       " 'KLoeffler',\n",
       " 'ChrisRGibbs',\n",
       " 'GriffJenkins',\n",
       " 'AFPFactCheck',\n",
       " 'ctassaf',\n",
       " 'greg_price11',\n",
       " 'nielslesniewski',\n",
       " 'DanKEberhart',\n",
       " 'EdHammondNY',\n",
       " 'BobOnMarkets',\n",
       " 'sesmith',\n",
       " 'lizskalka',\n",
       " 'CandaceScalese',\n",
       " 'DevanMarkham',\n",
       " 'LisaDeP',\n",
       " 'nberlat',\n",
       " 'Lancegooden',\n",
       " 'thehowie',\n",
       " 'wjmckelvey',\n",
       " 'JasonMHoskins',\n",
       " 'AlleenBrown',\n",
       " 'TulsiGabbard',\n",
       " 'SymoneDSanders',\n",
       " 'JosephWulfsohn']"
      ]
     },
     "execution_count": 183,
     "metadata": {},
     "output_type": "execute_result"
    }
   ],
   "source": [
    "# I am having a hard time classifying these guys: these are verified individual accounts, some are media, some are journalists (so, also media), but some are politicians, some are people\n",
    "check_by_hand_ind2"
   ]
  },
  {
   "cell_type": "code",
   "execution_count": 184,
   "metadata": {},
   "outputs": [
    {
     "data": {
      "text/plain": [
       "986"
      ]
     },
     "execution_count": 184,
     "metadata": {},
     "output_type": "execute_result"
    }
   ],
   "source": [
    "len(check_by_hand_ind2)"
   ]
  },
  {
   "cell_type": "code",
   "execution_count": 189,
   "metadata": {},
   "outputs": [],
   "source": [
    "pd.DataFrame(news, columns = ['news_accounts']).to_csv('news_accounts.csv', index = False)\n",
    "pd.DataFrame(politics, columns = ['politics_accounts']).to_csv('govt_accounts.csv', index = False)\n",
    "pd.DataFrame(activists, columns = ['activists_accounts']).to_csv('activists_accounts.csv', index = False)\n",
    "pd.DataFrame(other, columns = ['other_accounts']).to_csv('other_accounts.csv', index = False)\n",
    "# These are accounts missing classification: these are individual verified accounts, at first glance: some are media, some are journalists \n",
    "# so, also media), but some are politicians, some are people...\n",
    "pd.DataFrame(check_by_hand_ind2, columns = ['check_by_hand_ind2']).to_csv('check_by_hand_ind2.csv', index = False)\n",
    "\n",
    " \n"
   ]
  },
  {
   "cell_type": "code",
   "execution_count": null,
   "metadata": {},
   "outputs": [],
   "source": []
  }
 ],
 "metadata": {
  "kernelspec": {
   "display_name": "DSBD",
   "language": "python",
   "name": "python3"
  },
  "language_info": {
   "codemirror_mode": {
    "name": "ipython",
    "version": 3
   },
   "file_extension": ".py",
   "mimetype": "text/x-python",
   "name": "python",
   "nbconvert_exporter": "python",
   "pygments_lexer": "ipython3",
   "version": "3.9.16"
  },
  "orig_nbformat": 4
 },
 "nbformat": 4,
 "nbformat_minor": 2
}
