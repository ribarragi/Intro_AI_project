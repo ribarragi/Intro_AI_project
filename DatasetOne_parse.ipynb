{
 "cells": [
  {
   "cell_type": "code",
   "execution_count": 2,
   "metadata": {},
   "outputs": [],
   "source": [
    "import pandas as pd"
   ]
  },
  {
   "cell_type": "code",
   "execution_count": 3,
   "metadata": {},
   "outputs": [],
   "source": [
    "data_1 = pd.read_csv('Data/DatasetOne.csv')"
   ]
  },
  {
   "cell_type": "code",
   "execution_count": 4,
   "metadata": {},
   "outputs": [],
   "source": [
    "# Drop columns with only nulls\n",
    "null_col_bool = [i for i in [data_1.isna().sum() != len(data_1)][0]]\n",
    "cols_keep = data_1.columns[null_col_bool]\n",
    "data_1 = data_1.loc[:, cols_keep]"
   ]
  },
  {
   "cell_type": "code",
   "execution_count": 5,
   "metadata": {},
   "outputs": [],
   "source": [
    "# Drop this columns because all values are zero (these are related to Instagram and Linkedin attributes, and we ont have Instagram or Linknedin data)\n",
    "cols_drop = [col for col in data_1.select_dtypes(include=['int', 'float']) if data_1[col].sum() == 0]\n",
    "data_1.drop(columns = cols_drop, inplace=True)"
   ]
  },
  {
   "cell_type": "code",
   "execution_count": 6,
   "metadata": {},
   "outputs": [
    {
     "data": {
      "text/plain": [
       "True"
      ]
     },
     "execution_count": 6,
     "metadata": {},
     "output_type": "execute_result"
    }
   ],
   "source": [
    "# Drop columns because all entries are 0\n",
    "0 == data_1['Is Syndicated'].sum() == data_1['Linkedin Sponsored'].sum() == data_1['Starred'].sum() == data_1['Checked'].sum()\n",
    "\n",
    "# Drop columns becuase they only have one unique value (True for example)\n",
    "1 == data_1['Total Monthly Visitors'].nunique() == data_1['Content Source'].nunique() == data_1['Content Source Name'].nunique() == data_1['Page Type Name'].nunique() == data_1['Pub Type'].nunique()"
   ]
  },
  {
   "cell_type": "code",
   "execution_count": 7,
   "metadata": {},
   "outputs": [
    {
     "data": {
      "text/plain": [
       " 0.000000      447157\n",
       "-77.036819          3\n",
       "-87.629005          2\n",
       "-78.534470          1\n",
       "-84.772171          1\n",
       "-75.708061          1\n",
       "-74.011040          1\n",
       "-80.546501          1\n",
       "-87.628670          1\n",
       "-87.630859          1\n",
       "-79.926163          1\n",
       "-121.919281         1\n",
       "-118.100418         1\n",
       "-115.148445         1\n",
       "Name: Longitude, dtype: int64"
      ]
     },
     "execution_count": 7,
     "metadata": {},
     "output_type": "execute_result"
    }
   ],
   "source": [
    "# Not very useful, same case with Latitude\n",
    "data_1['Longitude'].value_counts()"
   ]
  },
  {
   "cell_type": "code",
   "execution_count": 8,
   "metadata": {},
   "outputs": [],
   "source": [
    "# Non useful columns \n",
    "non_useful_cols = ['Avatar', 'Latitude', 'Longitude', 'Total Monthly Visitors', 'Content Source', 'Is Syndicated', 'Linkedin Sponsored', 'Starred', 'Content Source Name', 'Page Type Name', 'Pub Type', 'Checked']\n",
    "data_1.drop(columns = non_useful_cols, inplace=True)"
   ]
  },
  {
   "cell_type": "code",
   "execution_count": 9,
   "metadata": {},
   "outputs": [],
   "source": [
    "data_2 = pd.read_csv('Data/DatasetTwo.csv')\n",
    "data_2 = data_2.loc[:, cols_keep]\n",
    "data_2.drop(columns = cols_drop, inplace=True)\n",
    "data_2.drop(columns = non_useful_cols, inplace=True)"
   ]
  },
  {
   "cell_type": "code",
   "execution_count": 10,
   "metadata": {},
   "outputs": [
    {
     "data": {
      "text/plain": [
       "Index(['Query Id', 'Query Name', 'Date', 'Title', 'Url', 'Domain', 'Sentiment',\n",
       "       'Page Type', 'Language', 'Country Code', 'Continent Code', 'Continent',\n",
       "       'Country', 'City Code', 'Account Type', 'Added', 'Author', 'City',\n",
       "       'Entity Info', 'Expanded URLs', 'Full Name', 'Full Text', 'Gender',\n",
       "       'Hashtags', 'Impact', 'Impressions', 'Interest', 'Location Name',\n",
       "       'Media URLs', 'Mentioned Authors', 'Original Url', 'Professions',\n",
       "       'Resource Id', 'Short URLs', 'Thread Author', 'Thread Created Date',\n",
       "       'Thread Entry Type', 'Thread Id', 'Twitter Author ID',\n",
       "       'Twitter Followers', 'Twitter Following', 'Twitter Reply Count',\n",
       "       'Twitter Reply to', 'Twitter Retweet of', 'Twitter Retweets',\n",
       "       'Twitter Likes', 'Twitter Tweets', 'Twitter Verified', 'Updated',\n",
       "       'Reach (new)', 'Engagement Type', 'Region', 'Region Code',\n",
       "       'Weblog Title'],\n",
       "      dtype='object')"
      ]
     },
     "execution_count": 10,
     "metadata": {},
     "output_type": "execute_result"
    }
   ],
   "source": [
    "# Final columns kept\n",
    "data_1.columns"
   ]
  },
  {
   "cell_type": "code",
   "execution_count": 11,
   "metadata": {},
   "outputs": [
    {
     "data": {
      "text/plain": [
       "Index(['Query Id', 'Query Name', 'Date', 'Title', 'Url', 'Domain', 'Sentiment',\n",
       "       'Page Type', 'Language', 'Country Code', 'Continent Code', 'Continent',\n",
       "       'Country', 'City Code', 'Account Type', 'Added', 'Author', 'City',\n",
       "       'Entity Info', 'Expanded URLs', 'Full Name', 'Full Text', 'Gender',\n",
       "       'Hashtags', 'Impact', 'Impressions', 'Interest', 'Location Name',\n",
       "       'Media URLs', 'Mentioned Authors', 'Original Url', 'Professions',\n",
       "       'Resource Id', 'Short URLs', 'Thread Author', 'Thread Created Date',\n",
       "       'Thread Entry Type', 'Thread Id', 'Twitter Author ID',\n",
       "       'Twitter Followers', 'Twitter Following', 'Twitter Reply Count',\n",
       "       'Twitter Reply to', 'Twitter Retweet of', 'Twitter Retweets',\n",
       "       'Twitter Likes', 'Twitter Tweets', 'Twitter Verified', 'Updated',\n",
       "       'Reach (new)', 'Engagement Type', 'Region', 'Region Code',\n",
       "       'Weblog Title'],\n",
       "      dtype='object')"
      ]
     },
     "execution_count": 11,
     "metadata": {},
     "output_type": "execute_result"
    }
   ],
   "source": [
    "data_2.columns"
   ]
  },
  {
   "cell_type": "code",
   "execution_count": 12,
   "metadata": {},
   "outputs": [
    {
     "data": {
      "text/plain": [
       "{profession=Artist, jobTitle=Artist}                                                                                                                                    3348\n",
       "{profession=Teacher & Lecturer, jobTitle=Teacher}                                                                                                                       2398\n",
       "{profession=Executive, jobTitle=Owner}                                                                                                                                  1704\n",
       "{profession=Health practitioner, jobTitle=Vet}                                                                                                                          1669\n",
       "{profession=Executive, jobTitle=President}                                                                                                                              1536\n",
       "                                                                                                                                                                        ... \n",
       "{profession=Artist, jobTitle=Photographer}, {profession=Artist, jobTitle=Urban Planner}                                                                                    1\n",
       "{profession=Artist, jobTitle=Songwriter}, {profession=Teacher & Lecturer, jobTitle=Teacher}                                                                                1\n",
       "{profession=Artist, jobTitle=Composer}, {profession=Journalist, jobTitle=Editor}, {profession=Executive, jobTitle=Founder}, {profession=Artist, jobTitle=Songwriter}       1\n",
       "{profession=Health practitioner, jobTitle=Counselor}, {profession=Health practitioner, jobTitle=Psychoanalyst}                                                             1\n",
       "{profession=Artist, jobTitle=Artist}, {profession=Scientist & Researcher, jobTitle=Neuroscientist}                                                                         1\n",
       "Name: Professions, Length: 3592, dtype: int64"
      ]
     },
     "execution_count": 12,
     "metadata": {},
     "output_type": "execute_result"
    }
   ],
   "source": [
    "data_1['Professions'].value_counts()"
   ]
  },
  {
   "cell_type": "code",
   "execution_count": 13,
   "metadata": {},
   "outputs": [
    {
     "data": {
      "text/plain": [
       "422985"
      ]
     },
     "execution_count": 13,
     "metadata": {},
     "output_type": "execute_result"
    }
   ],
   "source": [
    "data_1['Engagement Type'].value_counts().sum()"
   ]
  },
  {
   "cell_type": "code",
   "execution_count": 14,
   "metadata": {},
   "outputs": [
    {
     "data": {
      "text/plain": [
       "391422"
      ]
     },
     "execution_count": 14,
     "metadata": {},
     "output_type": "execute_result"
    }
   ],
   "source": [
    "data_1.Title.duplicated().sum()"
   ]
  },
  {
   "cell_type": "code",
   "execution_count": 15,
   "metadata": {},
   "outputs": [
    {
     "data": {
      "text/plain": [
       "55751"
      ]
     },
     "execution_count": 15,
     "metadata": {},
     "output_type": "execute_result"
    }
   ],
   "source": [
    "len(data_1) - data_1.Title.duplicated().sum()"
   ]
  },
  {
   "cell_type": "code",
   "execution_count": 16,
   "metadata": {},
   "outputs": [
    {
     "data": {
      "text/plain": [
       "False    439974\n",
       "True       7199\n",
       "Name: Twitter Verified, dtype: int64"
      ]
     },
     "execution_count": 16,
     "metadata": {},
     "output_type": "execute_result"
    }
   ],
   "source": [
    "data_1['Twitter Verified'].value_counts()"
   ]
  },
  {
   "cell_type": "code",
   "execution_count": 17,
   "metadata": {},
   "outputs": [
    {
     "data": {
      "text/plain": [
       "Twitter Verified\n",
       "False    226703\n",
       "True     206244\n",
       "Name: Twitter Retweets, dtype: int64"
      ]
     },
     "execution_count": 17,
     "metadata": {},
     "output_type": "execute_result"
    }
   ],
   "source": [
    "data_1.groupby('Twitter Verified')['Twitter Retweets'].sum()"
   ]
  },
  {
   "cell_type": "code",
   "execution_count": 18,
   "metadata": {},
   "outputs": [
    {
     "data": {
      "text/html": [
       "<div>\n",
       "<style scoped>\n",
       "    .dataframe tbody tr th:only-of-type {\n",
       "        vertical-align: middle;\n",
       "    }\n",
       "\n",
       "    .dataframe tbody tr th {\n",
       "        vertical-align: top;\n",
       "    }\n",
       "\n",
       "    .dataframe thead th {\n",
       "        text-align: right;\n",
       "    }\n",
       "</style>\n",
       "<table border=\"1\" class=\"dataframe\">\n",
       "  <thead>\n",
       "    <tr style=\"text-align: right;\">\n",
       "      <th></th>\n",
       "      <th>Query Id</th>\n",
       "      <th>Query Name</th>\n",
       "      <th>Date</th>\n",
       "      <th>Title</th>\n",
       "      <th>Url</th>\n",
       "      <th>Domain</th>\n",
       "      <th>Sentiment</th>\n",
       "      <th>Page Type</th>\n",
       "      <th>Language</th>\n",
       "      <th>Country Code</th>\n",
       "      <th>...</th>\n",
       "      <th>Twitter Retweets</th>\n",
       "      <th>Twitter Likes</th>\n",
       "      <th>Twitter Tweets</th>\n",
       "      <th>Twitter Verified</th>\n",
       "      <th>Updated</th>\n",
       "      <th>Reach (new)</th>\n",
       "      <th>Engagement Type</th>\n",
       "      <th>Region</th>\n",
       "      <th>Region Code</th>\n",
       "      <th>Weblog Title</th>\n",
       "    </tr>\n",
       "  </thead>\n",
       "  <tbody>\n",
       "    <tr>\n",
       "      <th>0</th>\n",
       "      <td>2001600692</td>\n",
       "      <td>Attempt_1</td>\n",
       "      <td>2023-03-14 21:46:27.0</td>\n",
       "      <td>RT @TristanSnell Get rid of train safety rules...</td>\n",
       "      <td>http://twitter.com/Valiant7283/statuses/163575...</td>\n",
       "      <td>twitter.com</td>\n",
       "      <td>neutral</td>\n",
       "      <td>twitter</td>\n",
       "      <td>en</td>\n",
       "      <td>NaN</td>\n",
       "      <td>...</td>\n",
       "      <td>0</td>\n",
       "      <td>0</td>\n",
       "      <td>22055</td>\n",
       "      <td>False</td>\n",
       "      <td>2023-03-14T21:53:24.051+0000</td>\n",
       "      <td>1693</td>\n",
       "      <td>RETWEET</td>\n",
       "      <td>NaN</td>\n",
       "      <td>NaN</td>\n",
       "      <td>Valiant7283 (Val #GOPPutinsParty #IStandWithUk...</td>\n",
       "    </tr>\n",
       "    <tr>\n",
       "      <th>1</th>\n",
       "      <td>2001600692</td>\n",
       "      <td>Attempt_1</td>\n",
       "      <td>2023-03-14 21:45:05.0</td>\n",
       "      <td>We need accountability from Norfolk Southern f...</td>\n",
       "      <td>http://twitter.com/SenJeffMerkley/statuses/163...</td>\n",
       "      <td>twitter.com</td>\n",
       "      <td>negative</td>\n",
       "      <td>twitter</td>\n",
       "      <td>en</td>\n",
       "      <td>USA</td>\n",
       "      <td>...</td>\n",
       "      <td>8</td>\n",
       "      <td>0</td>\n",
       "      <td>17687</td>\n",
       "      <td>True</td>\n",
       "      <td>2023-03-14T21:53:24.921+0000</td>\n",
       "      <td>47188</td>\n",
       "      <td>REPLY</td>\n",
       "      <td>Oregon</td>\n",
       "      <td>USA.OR</td>\n",
       "      <td>SenJeffMerkley (Senator Jeff Merkley)</td>\n",
       "    </tr>\n",
       "  </tbody>\n",
       "</table>\n",
       "<p>2 rows × 54 columns</p>\n",
       "</div>"
      ],
      "text/plain": [
       "     Query Id Query Name                   Date  \\\n",
       "0  2001600692  Attempt_1  2023-03-14 21:46:27.0   \n",
       "1  2001600692  Attempt_1  2023-03-14 21:45:05.0   \n",
       "\n",
       "                                               Title  \\\n",
       "0  RT @TristanSnell Get rid of train safety rules...   \n",
       "1  We need accountability from Norfolk Southern f...   \n",
       "\n",
       "                                                 Url       Domain Sentiment  \\\n",
       "0  http://twitter.com/Valiant7283/statuses/163575...  twitter.com   neutral   \n",
       "1  http://twitter.com/SenJeffMerkley/statuses/163...  twitter.com  negative   \n",
       "\n",
       "  Page Type Language Country Code  ... Twitter Retweets Twitter Likes  \\\n",
       "0   twitter       en          NaN  ...                0             0   \n",
       "1   twitter       en          USA  ...                8             0   \n",
       "\n",
       "  Twitter Tweets Twitter Verified                       Updated Reach (new)  \\\n",
       "0          22055            False  2023-03-14T21:53:24.051+0000        1693   \n",
       "1          17687             True  2023-03-14T21:53:24.921+0000       47188   \n",
       "\n",
       "  Engagement Type  Region Region Code  \\\n",
       "0         RETWEET     NaN         NaN   \n",
       "1           REPLY  Oregon      USA.OR   \n",
       "\n",
       "                                        Weblog Title  \n",
       "0  Valiant7283 (Val #GOPPutinsParty #IStandWithUk...  \n",
       "1              SenJeffMerkley (Senator Jeff Merkley)  \n",
       "\n",
       "[2 rows x 54 columns]"
      ]
     },
     "execution_count": 18,
     "metadata": {},
     "output_type": "execute_result"
    }
   ],
   "source": [
    "data_1.head(2)"
   ]
  },
  {
   "cell_type": "code",
   "execution_count": 19,
   "metadata": {},
   "outputs": [
    {
     "data": {
      "text/plain": [
       "12        RT @nicksortor 🚨 #BREAKING: The State of Ohio ...\n",
       "16        RT @OccupyDemocrats BREAKING: The state of Ohi...\n",
       "17        RT @ACTBrigitte Immediately after the train cr...\n",
       "27        RT @CTVNews Ohio sues Norfolk Southern over to...\n",
       "29        RT @TristanSnell Get rid of train safety rules...\n",
       "                                ...                        \n",
       "366925    RT @bennyjohnson Has Joe Biden said anything a...\n",
       "366926    RT @CRRJA5 Ohio Chernobyl 🥵and we haven’t hear...\n",
       "366927    RT @CL4WS_OUT This video shows a fiery axle on...\n",
       "366928    RT @KanekoaTheGreat THREAD: Photos, videos, an...\n",
       "366929    RT @prem_thakker I spoke with the people of Ea...\n",
       "Name: Title, Length: 310497, dtype: object"
      ]
     },
     "execution_count": 19,
     "metadata": {},
     "output_type": "execute_result"
    }
   ],
   "source": [
    "data_2.Title[data_2.Title.duplicated()]"
   ]
  },
  {
   "cell_type": "code",
   "execution_count": 20,
   "metadata": {},
   "outputs": [],
   "source": [
    "# tweets from data_1 and data_2\n",
    "data_3 = pd.concat([data_2, data_1])"
   ]
  },
  {
   "cell_type": "code",
   "execution_count": 21,
   "metadata": {},
   "outputs": [
    {
     "data": {
      "text/plain": [
       "(814103, 753791, 814102)"
      ]
     },
     "execution_count": 21,
     "metadata": {},
     "output_type": "execute_result"
    }
   ],
   "source": [
    "len(data_3), data_3.Title.duplicated().sum(), data_3['Query Id'].duplicated().sum()"
   ]
  },
  {
   "cell_type": "code",
   "execution_count": 22,
   "metadata": {},
   "outputs": [
    {
     "data": {
      "text/plain": [
       "Index(['Query Id', 'Query Name', 'Date', 'Title', 'Url', 'Domain', 'Sentiment',\n",
       "       'Page Type', 'Language', 'Country Code', 'Continent Code', 'Continent',\n",
       "       'Country', 'City Code', 'Account Type', 'Added', 'Author', 'City',\n",
       "       'Entity Info', 'Expanded URLs', 'Full Name', 'Full Text', 'Gender',\n",
       "       'Hashtags', 'Impact', 'Impressions', 'Interest', 'Location Name',\n",
       "       'Media URLs', 'Mentioned Authors', 'Original Url', 'Professions',\n",
       "       'Resource Id', 'Short URLs', 'Thread Author', 'Thread Created Date',\n",
       "       'Thread Entry Type', 'Thread Id', 'Twitter Author ID',\n",
       "       'Twitter Followers', 'Twitter Following', 'Twitter Reply Count',\n",
       "       'Twitter Reply to', 'Twitter Retweet of', 'Twitter Retweets',\n",
       "       'Twitter Likes', 'Twitter Tweets', 'Twitter Verified', 'Updated',\n",
       "       'Reach (new)', 'Engagement Type', 'Region', 'Region Code',\n",
       "       'Weblog Title'],\n",
       "      dtype='object')"
      ]
     },
     "execution_count": 22,
     "metadata": {},
     "output_type": "execute_result"
    }
   ],
   "source": [
    "data_3.columns"
   ]
  },
  {
   "cell_type": "code",
   "execution_count": 23,
   "metadata": {},
   "outputs": [],
   "source": [
    "data_3.drop_duplicates(inplace=True)"
   ]
  },
  {
   "cell_type": "code",
   "execution_count": 24,
   "metadata": {},
   "outputs": [],
   "source": [
    "data_3.drop_duplicates(subset = ['Title'], inplace=True)\n"
   ]
  },
  {
   "cell_type": "code",
   "execution_count": 25,
   "metadata": {},
   "outputs": [
    {
     "data": {
      "text/plain": [
       "60312"
      ]
     },
     "execution_count": 25,
     "metadata": {},
     "output_type": "execute_result"
    }
   ],
   "source": [
    "len(data_3)"
   ]
  },
  {
   "cell_type": "code",
   "execution_count": 26,
   "metadata": {},
   "outputs": [
    {
     "data": {
      "text/plain": [
       "NaN        26329\n",
       "RETWEET    20744\n",
       "REPLY      10670\n",
       "QUOTE       2569\n",
       "Name: Engagement Type, dtype: int64"
      ]
     },
     "execution_count": 26,
     "metadata": {},
     "output_type": "execute_result"
    }
   ],
   "source": [
    "data_3['Engagement Type'].value_counts(dropna=False)"
   ]
  },
  {
   "cell_type": "code",
   "execution_count": 27,
   "metadata": {},
   "outputs": [
    {
     "data": {
      "text/plain": [
       "5111"
      ]
     },
     "execution_count": 27,
     "metadata": {},
     "output_type": "execute_result"
    }
   ],
   "source": [
    "(data_3['Twitter Verified'] == True).sum()"
   ]
  },
  {
   "cell_type": "code",
   "execution_count": 28,
   "metadata": {},
   "outputs": [
    {
     "data": {
      "text/plain": [
       "24             WashTimes\n",
       "28             dansewell\n",
       "33                  ksbw\n",
       "35        SenJeffMerkley\n",
       "47               CTVNews\n",
       "               ...      \n",
       "444234    JordanChariton\n",
       "446547           FoxNews\n",
       "446934     MorePerfectUS\n",
       "446939    JosephWulfsohn\n",
       "446958     microsoftnews\n",
       "Name: Author, Length: 5111, dtype: object"
      ]
     },
     "execution_count": 28,
     "metadata": {},
     "output_type": "execute_result"
    }
   ],
   "source": [
    "data_3['Author'][data_3['Twitter Verified'] == True]"
   ]
  },
  {
   "cell_type": "code",
   "execution_count": 29,
   "metadata": {},
   "outputs": [
    {
     "data": {
      "text/plain": [
       "'{profession=Journalist, jobTitle=Editor}, {profession=Teacher & Lecturer, jobTitle=Teacher}'"
      ]
     },
     "execution_count": 29,
     "metadata": {},
     "output_type": "execute_result"
    }
   ],
   "source": [
    "(data_3['Professions'][data_3['Twitter Verified'] == True].iloc[1])"
   ]
  },
  {
   "cell_type": "code",
   "execution_count": 30,
   "metadata": {},
   "outputs": [],
   "source": [
    "import numpy as np"
   ]
  },
  {
   "cell_type": "code",
   "execution_count": 31,
   "metadata": {},
   "outputs": [
    {
     "data": {
      "text/plain": [
       "24                                                        0\n",
       "28        {profession=Journalist, jobTitle=Editor}, {pro...\n",
       "33                                                        0\n",
       "35                {profession=Politician, jobTitle=Senator}\n",
       "47                                                        0\n",
       "                                ...                        \n",
       "444234         {profession=Journalist, jobTitle=Journalist}\n",
       "446547                                                    0\n",
       "446934                                                    0\n",
       "446939           {profession=Journalist, jobTitle=Reporter}\n",
       "446958                                                    0\n",
       "Name: Professions, Length: 5111, dtype: object"
      ]
     },
     "execution_count": 31,
     "metadata": {},
     "output_type": "execute_result"
    }
   ],
   "source": [
    "data_3['Professions'][data_3['Twitter Verified'] == True].apply(lambda x: 0 if x is np.nan else x)\n",
    "# journalist"
   ]
  },
  {
   "cell_type": "code",
   "execution_count": 32,
   "metadata": {},
   "outputs": [
    {
     "data": {
      "text/plain": [
       "True     0.996638\n",
       "False    0.003362\n",
       "Name: Professions, dtype: float64"
      ]
     },
     "execution_count": 32,
     "metadata": {},
     "output_type": "execute_result"
    }
   ],
   "source": [
    "# Organizations accounts do not have professions, so we cannot use that to get news media organizations\n",
    "data_3['Professions'][(data_3['Account Type'] == 'organisational') & (data_3['Twitter Verified'] == True)].isna().value_counts(normalize=True)"
   ]
  },
  {
   "cell_type": "code",
   "execution_count": 33,
   "metadata": {},
   "outputs": [],
   "source": [
    "potential_news_org = [i for i in data_3['Author'][(data_3['Account Type'] == 'organisational') & (data_3['Twitter Verified'] == True)].value_counts().index]"
   ]
  },
  {
   "attachments": {},
   "cell_type": "markdown",
   "metadata": {},
   "source": [
    "## To do\n",
    "Create a list of media accounts to match with the other data set"
   ]
  },
  {
   "cell_type": "code",
   "execution_count": 38,
   "metadata": {},
   "outputs": [],
   "source": [
    "individual_verified = [i for i in data_3['Author'][(data_3['Account Type'] == 'individual') & (data_3['Twitter Verified'] == True)].value_counts().index]"
   ]
  },
  {
   "cell_type": "code",
   "execution_count": 40,
   "metadata": {},
   "outputs": [],
   "source": [
    "# individual_verified\n"
   ]
  },
  {
   "cell_type": "code",
   "execution_count": 55,
   "metadata": {},
   "outputs": [],
   "source": [
    "import re\n",
    "count = 0\n",
    "news_org_list = []\n",
    "check_by_hand = []\n",
    "pattern = re.compile(r'news|abc|cnn|cbs|reuters|times|fox|post|nbc|cnbc|bloomberg|gazette|politico|cspan|politics|journal|Tribune|daily|wsj|yahoo|tv|sun|time|radio|chronicle|herald', re.IGNORECASE) \n",
    "for item in potential_news_org:\n",
    "    if pattern.search(item):\n",
    "        news_org_list.append(item)\n",
    "    else:\n",
    "        check_by_hand.append(item)"
   ]
  },
  {
   "cell_type": "code",
   "execution_count": 82,
   "metadata": {},
   "outputs": [
    {
     "data": {
      "text/plain": [
       "341"
      ]
     },
     "execution_count": 82,
     "metadata": {},
     "output_type": "execute_result"
    }
   ],
   "source": [
    "len(check_by_hand)"
   ]
  },
  {
   "cell_type": "code",
   "execution_count": 66,
   "metadata": {},
   "outputs": [],
   "source": [
    "mk_news_org = pd.read_csv('MK/news_accounts_dataset3.csv')"
   ]
  },
  {
   "cell_type": "code",
   "execution_count": 67,
   "metadata": {},
   "outputs": [],
   "source": [
    "mk_news_org = mk_news_org.SENDER.to_list()"
   ]
  },
  {
   "cell_type": "code",
   "execution_count": 69,
   "metadata": {},
   "outputs": [],
   "source": [
    "count = 0\n",
    "for i in news_org_list:\n",
    "    if i in mk_news_org:\n",
    "      count += 1\n",
    "    else:\n",
    "       pass"
   ]
  },
  {
   "cell_type": "code",
   "execution_count": 71,
   "metadata": {},
   "outputs": [
    {
     "data": {
      "text/plain": [
       "0.6657824933687002"
      ]
     },
     "execution_count": 71,
     "metadata": {},
     "output_type": "execute_result"
    }
   ],
   "source": [
    "count / len(news_org_list)"
   ]
  },
  {
   "cell_type": "code",
   "execution_count": 77,
   "metadata": {},
   "outputs": [],
   "source": [
    "news_orgs_list2 = []\n",
    "check_by_hand_2 = []\n",
    "for account in check_by_hand:\n",
    "    if account in mk_news_org:\n",
    "      news_orgs_list2.append(account)\n",
    "    else:\n",
    "       check_by_hand_2.append(account)"
   ]
  },
  {
   "cell_type": "code",
   "execution_count": 81,
   "metadata": {},
   "outputs": [],
   "source": [
    "#news_orgs_list2"
   ]
  },
  {
   "cell_type": "code",
   "execution_count": 80,
   "metadata": {},
   "outputs": [
    {
     "data": {
      "text/plain": [
       "185"
      ]
     },
     "execution_count": 80,
     "metadata": {},
     "output_type": "execute_result"
    }
   ],
   "source": [
    "len(check_by_hand_2)"
   ]
  },
  {
   "cell_type": "code",
   "execution_count": 68,
   "metadata": {},
   "outputs": [
    {
     "data": {
      "text/plain": [
       "False"
      ]
     },
     "execution_count": 68,
     "metadata": {},
     "output_type": "execute_result"
    }
   ],
   "source": [
    "news_org_list in mk_news_org"
   ]
  },
  {
   "cell_type": "code",
   "execution_count": null,
   "metadata": {},
   "outputs": [],
   "source": [
    "# With regex: News, news, Times, times, media"
   ]
  },
  {
   "cell_type": "code",
   "execution_count": 69,
   "metadata": {},
   "outputs": [
    {
     "data": {
      "text/html": [
       "<div>\n",
       "<style scoped>\n",
       "    .dataframe tbody tr th:only-of-type {\n",
       "        vertical-align: middle;\n",
       "    }\n",
       "\n",
       "    .dataframe tbody tr th {\n",
       "        vertical-align: top;\n",
       "    }\n",
       "\n",
       "    .dataframe thead th {\n",
       "        text-align: right;\n",
       "    }\n",
       "</style>\n",
       "<table border=\"1\" class=\"dataframe\">\n",
       "  <thead>\n",
       "    <tr style=\"text-align: right;\">\n",
       "      <th></th>\n",
       "      <th>Query Id</th>\n",
       "      <th>Query Name</th>\n",
       "      <th>Date</th>\n",
       "      <th>Title</th>\n",
       "      <th>Url</th>\n",
       "      <th>Domain</th>\n",
       "      <th>Sentiment</th>\n",
       "      <th>Page Type</th>\n",
       "      <th>Language</th>\n",
       "      <th>Country Code</th>\n",
       "      <th>...</th>\n",
       "      <th>Twitter Retweets</th>\n",
       "      <th>Twitter Likes</th>\n",
       "      <th>Twitter Tweets</th>\n",
       "      <th>Twitter Verified</th>\n",
       "      <th>Updated</th>\n",
       "      <th>Reach (new)</th>\n",
       "      <th>Engagement Type</th>\n",
       "      <th>Region</th>\n",
       "      <th>Region Code</th>\n",
       "      <th>Weblog Title</th>\n",
       "    </tr>\n",
       "  </thead>\n",
       "  <tbody>\n",
       "    <tr>\n",
       "      <th>0</th>\n",
       "      <td>2001600692</td>\n",
       "      <td>Attempt_1</td>\n",
       "      <td>2023-03-14 21:56:12.0</td>\n",
       "      <td>RT @TristanSnell Get rid of train safety rules...</td>\n",
       "      <td>http://twitter.com/TurnKyBlue/statuses/1635761...</td>\n",
       "      <td>twitter.com</td>\n",
       "      <td>neutral</td>\n",
       "      <td>twitter</td>\n",
       "      <td>en</td>\n",
       "      <td>USA</td>\n",
       "      <td>...</td>\n",
       "      <td>0</td>\n",
       "      <td>0</td>\n",
       "      <td>139422</td>\n",
       "      <td>False</td>\n",
       "      <td>2023-03-14T22:05:29.119+0000</td>\n",
       "      <td>2752</td>\n",
       "      <td>RETWEET</td>\n",
       "      <td>Kentucky</td>\n",
       "      <td>USA.KY</td>\n",
       "      <td>TurnKyBlue (Shut Down GOP)</td>\n",
       "    </tr>\n",
       "    <tr>\n",
       "      <th>1</th>\n",
       "      <td>2001600692</td>\n",
       "      <td>Attempt_1</td>\n",
       "      <td>2023-03-14 21:56:03.0</td>\n",
       "      <td>RT @realTuckFrumper Ohio Sues Norfolk Southern...</td>\n",
       "      <td>http://twitter.com/jrbkjrbk/statuses/163576173...</td>\n",
       "      <td>twitter.com</td>\n",
       "      <td>neutral</td>\n",
       "      <td>twitter</td>\n",
       "      <td>en</td>\n",
       "      <td>NaN</td>\n",
       "      <td>...</td>\n",
       "      <td>0</td>\n",
       "      <td>0</td>\n",
       "      <td>931407</td>\n",
       "      <td>False</td>\n",
       "      <td>2023-03-14T22:04:45.998+0000</td>\n",
       "      <td>158</td>\n",
       "      <td>RETWEET</td>\n",
       "      <td>NaN</td>\n",
       "      <td>NaN</td>\n",
       "      <td>jrbkjrbk (Roger K)</td>\n",
       "    </tr>\n",
       "    <tr>\n",
       "      <th>2</th>\n",
       "      <td>2001600692</td>\n",
       "      <td>Attempt_1</td>\n",
       "      <td>2023-03-14 21:55:12.0</td>\n",
       "      <td>RT @SenJeffMerkley We need accountability from...</td>\n",
       "      <td>http://twitter.com/camoxendale/statuses/163576...</td>\n",
       "      <td>twitter.com</td>\n",
       "      <td>negative</td>\n",
       "      <td>twitter</td>\n",
       "      <td>en</td>\n",
       "      <td>NaN</td>\n",
       "      <td>...</td>\n",
       "      <td>0</td>\n",
       "      <td>0</td>\n",
       "      <td>583071</td>\n",
       "      <td>False</td>\n",
       "      <td>2023-03-14T22:03:59.790+0000</td>\n",
       "      <td>131</td>\n",
       "      <td>RETWEET</td>\n",
       "      <td>NaN</td>\n",
       "      <td>NaN</td>\n",
       "      <td>camoxendale (cam oxendale)</td>\n",
       "    </tr>\n",
       "    <tr>\n",
       "      <th>3</th>\n",
       "      <td>2001600692</td>\n",
       "      <td>Attempt_1</td>\n",
       "      <td>2023-03-14 21:54:42.0</td>\n",
       "      <td>RT @nicksortor 🚨 #BREAKING: The State of Ohio ...</td>\n",
       "      <td>http://twitter.com/strongfemchar/statuses/1635...</td>\n",
       "      <td>twitter.com</td>\n",
       "      <td>negative</td>\n",
       "      <td>twitter</td>\n",
       "      <td>en</td>\n",
       "      <td>NaN</td>\n",
       "      <td>...</td>\n",
       "      <td>0</td>\n",
       "      <td>0</td>\n",
       "      <td>1136</td>\n",
       "      <td>False</td>\n",
       "      <td>2023-03-14T22:03:33.388+0000</td>\n",
       "      <td>0</td>\n",
       "      <td>RETWEET</td>\n",
       "      <td>NaN</td>\n",
       "      <td>NaN</td>\n",
       "      <td>strongfemchar (Strong Mother)</td>\n",
       "    </tr>\n",
       "  </tbody>\n",
       "</table>\n",
       "<p>4 rows × 54 columns</p>\n",
       "</div>"
      ],
      "text/plain": [
       "     Query Id Query Name                   Date  \\\n",
       "0  2001600692  Attempt_1  2023-03-14 21:56:12.0   \n",
       "1  2001600692  Attempt_1  2023-03-14 21:56:03.0   \n",
       "2  2001600692  Attempt_1  2023-03-14 21:55:12.0   \n",
       "3  2001600692  Attempt_1  2023-03-14 21:54:42.0   \n",
       "\n",
       "                                               Title  \\\n",
       "0  RT @TristanSnell Get rid of train safety rules...   \n",
       "1  RT @realTuckFrumper Ohio Sues Norfolk Southern...   \n",
       "2  RT @SenJeffMerkley We need accountability from...   \n",
       "3  RT @nicksortor 🚨 #BREAKING: The State of Ohio ...   \n",
       "\n",
       "                                                 Url       Domain Sentiment  \\\n",
       "0  http://twitter.com/TurnKyBlue/statuses/1635761...  twitter.com   neutral   \n",
       "1  http://twitter.com/jrbkjrbk/statuses/163576173...  twitter.com   neutral   \n",
       "2  http://twitter.com/camoxendale/statuses/163576...  twitter.com  negative   \n",
       "3  http://twitter.com/strongfemchar/statuses/1635...  twitter.com  negative   \n",
       "\n",
       "  Page Type Language Country Code  ... Twitter Retweets Twitter Likes  \\\n",
       "0   twitter       en          USA  ...                0             0   \n",
       "1   twitter       en          NaN  ...                0             0   \n",
       "2   twitter       en          NaN  ...                0             0   \n",
       "3   twitter       en          NaN  ...                0             0   \n",
       "\n",
       "  Twitter Tweets Twitter Verified                       Updated Reach (new)  \\\n",
       "0         139422            False  2023-03-14T22:05:29.119+0000        2752   \n",
       "1         931407            False  2023-03-14T22:04:45.998+0000         158   \n",
       "2         583071            False  2023-03-14T22:03:59.790+0000         131   \n",
       "3           1136            False  2023-03-14T22:03:33.388+0000           0   \n",
       "\n",
       "  Engagement Type    Region Region Code                   Weblog Title  \n",
       "0         RETWEET  Kentucky      USA.KY     TurnKyBlue (Shut Down GOP)  \n",
       "1         RETWEET       NaN         NaN             jrbkjrbk (Roger K)  \n",
       "2         RETWEET       NaN         NaN     camoxendale (cam oxendale)  \n",
       "3         RETWEET       NaN         NaN  strongfemchar (Strong Mother)  \n",
       "\n",
       "[4 rows x 54 columns]"
      ]
     },
     "execution_count": 69,
     "metadata": {},
     "output_type": "execute_result"
    }
   ],
   "source": [
    "data_3.head(4)"
   ]
  },
  {
   "cell_type": "code",
   "execution_count": null,
   "metadata": {},
   "outputs": [],
   "source": [
    "# cols_of_interest = 'Date', 'Title', 'Sentiment', 'Account Type', 'Added', 'Author', 'Entity Info', 'Expanded URLs',\t'Full Name',\t'Full Text',\t'Gender',\t'Hashtags',\t'Impact',\t'Impressions',\t'Interest',"
   ]
  },
  {
   "cell_type": "code",
   "execution_count": 46,
   "metadata": {},
   "outputs": [
    {
     "data": {
      "text/html": [
       "<div>\n",
       "<style scoped>\n",
       "    .dataframe tbody tr th:only-of-type {\n",
       "        vertical-align: middle;\n",
       "    }\n",
       "\n",
       "    .dataframe tbody tr th {\n",
       "        vertical-align: top;\n",
       "    }\n",
       "\n",
       "    .dataframe thead th {\n",
       "        text-align: right;\n",
       "    }\n",
       "</style>\n",
       "<table border=\"1\" class=\"dataframe\">\n",
       "  <thead>\n",
       "    <tr style=\"text-align: right;\">\n",
       "      <th></th>\n",
       "      <th>Query Id</th>\n",
       "      <th>Query Name</th>\n",
       "      <th>Date</th>\n",
       "      <th>Title</th>\n",
       "      <th>Url</th>\n",
       "      <th>Domain</th>\n",
       "      <th>Sentiment</th>\n",
       "      <th>Page Type</th>\n",
       "      <th>Language</th>\n",
       "      <th>Country Code</th>\n",
       "      <th>Continent Code</th>\n",
       "      <th>Continent</th>\n",
       "      <th>Country</th>\n",
       "      <th>City Code</th>\n",
       "    </tr>\n",
       "  </thead>\n",
       "  <tbody>\n",
       "    <tr>\n",
       "      <th>0</th>\n",
       "      <td>2001600692</td>\n",
       "      <td>Attempt_1</td>\n",
       "      <td>2023-03-14 21:56:12.0</td>\n",
       "      <td>RT @TristanSnell Get rid of train safety rules...</td>\n",
       "      <td>http://twitter.com/TurnKyBlue/statuses/1635761...</td>\n",
       "      <td>twitter.com</td>\n",
       "      <td>neutral</td>\n",
       "      <td>twitter</td>\n",
       "      <td>en</td>\n",
       "      <td>USA</td>\n",
       "      <td>NORTH AMERICA</td>\n",
       "      <td>North America</td>\n",
       "      <td>United States of America</td>\n",
       "      <td>NaN</td>\n",
       "    </tr>\n",
       "    <tr>\n",
       "      <th>1</th>\n",
       "      <td>2001600692</td>\n",
       "      <td>Attempt_1</td>\n",
       "      <td>2023-03-14 21:56:03.0</td>\n",
       "      <td>RT @realTuckFrumper Ohio Sues Norfolk Southern...</td>\n",
       "      <td>http://twitter.com/jrbkjrbk/statuses/163576173...</td>\n",
       "      <td>twitter.com</td>\n",
       "      <td>neutral</td>\n",
       "      <td>twitter</td>\n",
       "      <td>en</td>\n",
       "      <td>NaN</td>\n",
       "      <td>NaN</td>\n",
       "      <td>NaN</td>\n",
       "      <td>NaN</td>\n",
       "      <td>NaN</td>\n",
       "    </tr>\n",
       "    <tr>\n",
       "      <th>2</th>\n",
       "      <td>2001600692</td>\n",
       "      <td>Attempt_1</td>\n",
       "      <td>2023-03-14 21:55:12.0</td>\n",
       "      <td>RT @SenJeffMerkley We need accountability from...</td>\n",
       "      <td>http://twitter.com/camoxendale/statuses/163576...</td>\n",
       "      <td>twitter.com</td>\n",
       "      <td>negative</td>\n",
       "      <td>twitter</td>\n",
       "      <td>en</td>\n",
       "      <td>NaN</td>\n",
       "      <td>NaN</td>\n",
       "      <td>NaN</td>\n",
       "      <td>NaN</td>\n",
       "      <td>NaN</td>\n",
       "    </tr>\n",
       "    <tr>\n",
       "      <th>3</th>\n",
       "      <td>2001600692</td>\n",
       "      <td>Attempt_1</td>\n",
       "      <td>2023-03-14 21:54:42.0</td>\n",
       "      <td>RT @nicksortor 🚨 #BREAKING: The State of Ohio ...</td>\n",
       "      <td>http://twitter.com/strongfemchar/statuses/1635...</td>\n",
       "      <td>twitter.com</td>\n",
       "      <td>negative</td>\n",
       "      <td>twitter</td>\n",
       "      <td>en</td>\n",
       "      <td>NaN</td>\n",
       "      <td>NaN</td>\n",
       "      <td>NaN</td>\n",
       "      <td>NaN</td>\n",
       "      <td>NaN</td>\n",
       "    </tr>\n",
       "    <tr>\n",
       "      <th>4</th>\n",
       "      <td>2001600692</td>\n",
       "      <td>Attempt_1</td>\n",
       "      <td>2023-03-14 21:54:29.0</td>\n",
       "      <td>RT @NEWSMAX A new poll finds the majority of A...</td>\n",
       "      <td>http://twitter.com/Waywow/statuses/16357613417...</td>\n",
       "      <td>twitter.com</td>\n",
       "      <td>neutral</td>\n",
       "      <td>twitter</td>\n",
       "      <td>en</td>\n",
       "      <td>NaN</td>\n",
       "      <td>NaN</td>\n",
       "      <td>NaN</td>\n",
       "      <td>NaN</td>\n",
       "      <td>NaN</td>\n",
       "    </tr>\n",
       "  </tbody>\n",
       "</table>\n",
       "</div>"
      ],
      "text/plain": [
       "     Query Id Query Name                   Date  \\\n",
       "0  2001600692  Attempt_1  2023-03-14 21:56:12.0   \n",
       "1  2001600692  Attempt_1  2023-03-14 21:56:03.0   \n",
       "2  2001600692  Attempt_1  2023-03-14 21:55:12.0   \n",
       "3  2001600692  Attempt_1  2023-03-14 21:54:42.0   \n",
       "4  2001600692  Attempt_1  2023-03-14 21:54:29.0   \n",
       "\n",
       "                                               Title  \\\n",
       "0  RT @TristanSnell Get rid of train safety rules...   \n",
       "1  RT @realTuckFrumper Ohio Sues Norfolk Southern...   \n",
       "2  RT @SenJeffMerkley We need accountability from...   \n",
       "3  RT @nicksortor 🚨 #BREAKING: The State of Ohio ...   \n",
       "4  RT @NEWSMAX A new poll finds the majority of A...   \n",
       "\n",
       "                                                 Url       Domain Sentiment  \\\n",
       "0  http://twitter.com/TurnKyBlue/statuses/1635761...  twitter.com   neutral   \n",
       "1  http://twitter.com/jrbkjrbk/statuses/163576173...  twitter.com   neutral   \n",
       "2  http://twitter.com/camoxendale/statuses/163576...  twitter.com  negative   \n",
       "3  http://twitter.com/strongfemchar/statuses/1635...  twitter.com  negative   \n",
       "4  http://twitter.com/Waywow/statuses/16357613417...  twitter.com   neutral   \n",
       "\n",
       "  Page Type Language Country Code Continent Code      Continent  \\\n",
       "0   twitter       en          USA  NORTH AMERICA  North America   \n",
       "1   twitter       en          NaN            NaN            NaN   \n",
       "2   twitter       en          NaN            NaN            NaN   \n",
       "3   twitter       en          NaN            NaN            NaN   \n",
       "4   twitter       en          NaN            NaN            NaN   \n",
       "\n",
       "                    Country City Code  \n",
       "0  United States of America       NaN  \n",
       "1                       NaN       NaN  \n",
       "2                       NaN       NaN  \n",
       "3                       NaN       NaN  \n",
       "4                       NaN       NaN  "
      ]
     },
     "execution_count": 46,
     "metadata": {},
     "output_type": "execute_result"
    }
   ],
   "source": [
    "data_3.iloc[:, 0:14].head(5)"
   ]
  },
  {
   "cell_type": "code",
   "execution_count": 49,
   "metadata": {},
   "outputs": [
    {
     "data": {
      "text/html": [
       "<div>\n",
       "<style scoped>\n",
       "    .dataframe tbody tr th:only-of-type {\n",
       "        vertical-align: middle;\n",
       "    }\n",
       "\n",
       "    .dataframe tbody tr th {\n",
       "        vertical-align: top;\n",
       "    }\n",
       "\n",
       "    .dataframe thead th {\n",
       "        text-align: right;\n",
       "    }\n",
       "</style>\n",
       "<table border=\"1\" class=\"dataframe\">\n",
       "  <thead>\n",
       "    <tr style=\"text-align: right;\">\n",
       "      <th></th>\n",
       "      <th>Account Type</th>\n",
       "      <th>Added</th>\n",
       "      <th>Author</th>\n",
       "      <th>City</th>\n",
       "      <th>Entity Info</th>\n",
       "      <th>Expanded URLs</th>\n",
       "      <th>Full Name</th>\n",
       "      <th>Full Text</th>\n",
       "      <th>Gender</th>\n",
       "      <th>Hashtags</th>\n",
       "      <th>Impact</th>\n",
       "      <th>Impressions</th>\n",
       "      <th>Interest</th>\n",
       "      <th>Location Name</th>\n",
       "    </tr>\n",
       "  </thead>\n",
       "  <tbody>\n",
       "    <tr>\n",
       "      <th>0</th>\n",
       "      <td>individual</td>\n",
       "      <td>2023-03-14T22:05:29.119+0000</td>\n",
       "      <td>TurnKyBlue</td>\n",
       "      <td>NaN</td>\n",
       "      <td>{entityId=1924957, entityConfidence=HIGH, url=...</td>\n",
       "      <td>NaN</td>\n",
       "      <td>TurnKyBlue (Shut Down GOP)</td>\n",
       "      <td>RT @TristanSnell Get rid of train safety rules...</td>\n",
       "      <td>unknown</td>\n",
       "      <td>NaN</td>\n",
       "      <td>20.0</td>\n",
       "      <td>4414</td>\n",
       "      <td>Politics</td>\n",
       "      <td>KY, USA</td>\n",
       "    </tr>\n",
       "    <tr>\n",
       "      <th>1</th>\n",
       "      <td>individual</td>\n",
       "      <td>2023-03-14T22:04:45.998+0000</td>\n",
       "      <td>jrbkjrbk</td>\n",
       "      <td>NaN</td>\n",
       "      <td>{entityId=1193370, entityConfidence=HIGH, url=...</td>\n",
       "      <td>https://www.huffpost.com/entry/ohio-sues-norfo...</td>\n",
       "      <td>jrbkjrbk (Roger K)</td>\n",
       "      <td>RT @realTuckFrumper Ohio Sues Norfolk Southern...</td>\n",
       "      <td>male</td>\n",
       "      <td>NaN</td>\n",
       "      <td>0.0</td>\n",
       "      <td>1011</td>\n",
       "      <td>NaN</td>\n",
       "      <td>NaN</td>\n",
       "    </tr>\n",
       "    <tr>\n",
       "      <th>2</th>\n",
       "      <td>individual</td>\n",
       "      <td>2023-03-14T22:03:59.790+0000</td>\n",
       "      <td>camoxendale</td>\n",
       "      <td>NaN</td>\n",
       "      <td>{entityId=1321054, entityConfidence=HIGH, url=...</td>\n",
       "      <td>NaN</td>\n",
       "      <td>camoxendale (cam oxendale)</td>\n",
       "      <td>RT @SenJeffMerkley We need accountability from...</td>\n",
       "      <td>female</td>\n",
       "      <td>NaN</td>\n",
       "      <td>0.0</td>\n",
       "      <td>990</td>\n",
       "      <td>NaN</td>\n",
       "      <td>NaN</td>\n",
       "    </tr>\n",
       "    <tr>\n",
       "      <th>3</th>\n",
       "      <td>individual</td>\n",
       "      <td>2023-03-14T22:03:33.388+0000</td>\n",
       "      <td>strongfemchar</td>\n",
       "      <td>NaN</td>\n",
       "      <td>{entityId=1321054, entityConfidence=HIGH, url=...</td>\n",
       "      <td>NaN</td>\n",
       "      <td>strongfemchar (Strong Mother)</td>\n",
       "      <td>RT @nicksortor 🚨 #BREAKING: The State of Ohio ...</td>\n",
       "      <td>unknown</td>\n",
       "      <td>#breaking</td>\n",
       "      <td>0.0</td>\n",
       "      <td>64</td>\n",
       "      <td>NaN</td>\n",
       "      <td>NaN</td>\n",
       "    </tr>\n",
       "    <tr>\n",
       "      <th>4</th>\n",
       "      <td>individual</td>\n",
       "      <td>2023-03-14T21:59:01.264+0000</td>\n",
       "      <td>Waywow</td>\n",
       "      <td>NaN</td>\n",
       "      <td>{entityId=7173106, entityConfidence=HIGH, url=...</td>\n",
       "      <td>https://www.newsmax.com/draft-stories/buttigie...</td>\n",
       "      <td>Waywow (Wayne J)</td>\n",
       "      <td>RT @NEWSMAX A new poll finds the majority of A...</td>\n",
       "      <td>male</td>\n",
       "      <td>NaN</td>\n",
       "      <td>0.0</td>\n",
       "      <td>2</td>\n",
       "      <td>NaN</td>\n",
       "      <td>NaN</td>\n",
       "    </tr>\n",
       "  </tbody>\n",
       "</table>\n",
       "</div>"
      ],
      "text/plain": [
       "  Account Type                         Added         Author City  \\\n",
       "0   individual  2023-03-14T22:05:29.119+0000     TurnKyBlue  NaN   \n",
       "1   individual  2023-03-14T22:04:45.998+0000       jrbkjrbk  NaN   \n",
       "2   individual  2023-03-14T22:03:59.790+0000    camoxendale  NaN   \n",
       "3   individual  2023-03-14T22:03:33.388+0000  strongfemchar  NaN   \n",
       "4   individual  2023-03-14T21:59:01.264+0000         Waywow  NaN   \n",
       "\n",
       "                                         Entity Info  \\\n",
       "0  {entityId=1924957, entityConfidence=HIGH, url=...   \n",
       "1  {entityId=1193370, entityConfidence=HIGH, url=...   \n",
       "2  {entityId=1321054, entityConfidence=HIGH, url=...   \n",
       "3  {entityId=1321054, entityConfidence=HIGH, url=...   \n",
       "4  {entityId=7173106, entityConfidence=HIGH, url=...   \n",
       "\n",
       "                                       Expanded URLs  \\\n",
       "0                                                NaN   \n",
       "1  https://www.huffpost.com/entry/ohio-sues-norfo...   \n",
       "2                                                NaN   \n",
       "3                                                NaN   \n",
       "4  https://www.newsmax.com/draft-stories/buttigie...   \n",
       "\n",
       "                       Full Name  \\\n",
       "0     TurnKyBlue (Shut Down GOP)   \n",
       "1             jrbkjrbk (Roger K)   \n",
       "2     camoxendale (cam oxendale)   \n",
       "3  strongfemchar (Strong Mother)   \n",
       "4               Waywow (Wayne J)   \n",
       "\n",
       "                                           Full Text   Gender   Hashtags  \\\n",
       "0  RT @TristanSnell Get rid of train safety rules...  unknown        NaN   \n",
       "1  RT @realTuckFrumper Ohio Sues Norfolk Southern...     male        NaN   \n",
       "2  RT @SenJeffMerkley We need accountability from...   female        NaN   \n",
       "3  RT @nicksortor 🚨 #BREAKING: The State of Ohio ...  unknown  #breaking   \n",
       "4  RT @NEWSMAX A new poll finds the majority of A...     male        NaN   \n",
       "\n",
       "   Impact  Impressions  Interest Location Name  \n",
       "0    20.0         4414  Politics       KY, USA  \n",
       "1     0.0         1011       NaN           NaN  \n",
       "2     0.0          990       NaN           NaN  \n",
       "3     0.0           64       NaN           NaN  \n",
       "4     0.0            2       NaN           NaN  "
      ]
     },
     "execution_count": 49,
     "metadata": {},
     "output_type": "execute_result"
    }
   ],
   "source": [
    "data_3.iloc[:, 14:28].head(5)"
   ]
  },
  {
   "cell_type": "code",
   "execution_count": 48,
   "metadata": {},
   "outputs": [
    {
     "data": {
      "text/html": [
       "<div>\n",
       "<style scoped>\n",
       "    .dataframe tbody tr th:only-of-type {\n",
       "        vertical-align: middle;\n",
       "    }\n",
       "\n",
       "    .dataframe tbody tr th {\n",
       "        vertical-align: top;\n",
       "    }\n",
       "\n",
       "    .dataframe thead th {\n",
       "        text-align: right;\n",
       "    }\n",
       "</style>\n",
       "<table border=\"1\" class=\"dataframe\">\n",
       "  <thead>\n",
       "    <tr style=\"text-align: right;\">\n",
       "      <th></th>\n",
       "      <th>Media URLs</th>\n",
       "      <th>Mentioned Authors</th>\n",
       "      <th>Original Url</th>\n",
       "      <th>Professions</th>\n",
       "      <th>Resource Id</th>\n",
       "      <th>Short URLs</th>\n",
       "      <th>Thread Author</th>\n",
       "      <th>Thread Created Date</th>\n",
       "      <th>Thread Entry Type</th>\n",
       "      <th>Thread Id</th>\n",
       "      <th>Twitter Author ID</th>\n",
       "      <th>Twitter Followers</th>\n",
       "      <th>Twitter Following</th>\n",
       "      <th>Twitter Reply Count</th>\n",
       "    </tr>\n",
       "  </thead>\n",
       "  <tbody>\n",
       "    <tr>\n",
       "      <th>0</th>\n",
       "      <td>NaN</td>\n",
       "      <td>@tristansnell</td>\n",
       "      <td>http://twitter.com/TristanSnell/statuses/16357...</td>\n",
       "      <td>NaN</td>\n",
       "      <td>137dc6280ae8877be49180430ffbfe52</td>\n",
       "      <td>NaN</td>\n",
       "      <td>TristanSnell</td>\n",
       "      <td>2023-03-14T21:25:36.000+0000</td>\n",
       "      <td>share</td>\n",
       "      <td>1635754073080176640</td>\n",
       "      <td>600444379</td>\n",
       "      <td>4414</td>\n",
       "      <td>4933</td>\n",
       "      <td>0</td>\n",
       "    </tr>\n",
       "    <tr>\n",
       "      <th>1</th>\n",
       "      <td>NaN</td>\n",
       "      <td>@realtuckfrumper</td>\n",
       "      <td>http://twitter.com/realTuckFrumper/statuses/16...</td>\n",
       "      <td>NaN</td>\n",
       "      <td>f2fa45bb083b483edb72e75240517ff8</td>\n",
       "      <td>https://t.co/ABXKerRD4A, http://dlvr.it/SktpC9</td>\n",
       "      <td>realTuckFrumper</td>\n",
       "      <td>2023-03-14T19:38:36.000+0000</td>\n",
       "      <td>share</td>\n",
       "      <td>1635727145854197760</td>\n",
       "      <td>1383905040</td>\n",
       "      <td>1011</td>\n",
       "      <td>403</td>\n",
       "      <td>0</td>\n",
       "    </tr>\n",
       "    <tr>\n",
       "      <th>2</th>\n",
       "      <td>NaN</td>\n",
       "      <td>NaN</td>\n",
       "      <td>http://twitter.com/SenJeffMerkley/statuses/163...</td>\n",
       "      <td>NaN</td>\n",
       "      <td>2581be0bfc2739fba188158eb87e165f</td>\n",
       "      <td>NaN</td>\n",
       "      <td>SenJeffMerkley</td>\n",
       "      <td>2023-03-14T21:45:05.000+0000</td>\n",
       "      <td>share</td>\n",
       "      <td>1635758977374998529</td>\n",
       "      <td>574610719</td>\n",
       "      <td>990</td>\n",
       "      <td>341</td>\n",
       "      <td>0</td>\n",
       "    </tr>\n",
       "    <tr>\n",
       "      <th>3</th>\n",
       "      <td>NaN</td>\n",
       "      <td>NaN</td>\n",
       "      <td>http://twitter.com/nicksortor/statuses/1635715...</td>\n",
       "      <td>NaN</td>\n",
       "      <td>e3a63b6cd116f3e2297460f7222e367c</td>\n",
       "      <td>NaN</td>\n",
       "      <td>nicksortor</td>\n",
       "      <td>2023-03-14T18:53:42.000+0000</td>\n",
       "      <td>share</td>\n",
       "      <td>1635715845656543248</td>\n",
       "      <td>3054687640</td>\n",
       "      <td>64</td>\n",
       "      <td>496</td>\n",
       "      <td>0</td>\n",
       "    </tr>\n",
       "    <tr>\n",
       "      <th>4</th>\n",
       "      <td>http://pbs.twimg.com/media/FrLuhYcaEAExNTH.jpg</td>\n",
       "      <td>NaN</td>\n",
       "      <td>http://twitter.com/NEWSMAX/statuses/1635631876...</td>\n",
       "      <td>NaN</td>\n",
       "      <td>99a308c2c640972394fdbc2868f6c1a0</td>\n",
       "      <td>https://t.co/yiGTVZTHLU, https://t.co/pErVKgnR...</td>\n",
       "      <td>NEWSMAX</td>\n",
       "      <td>2023-03-14T13:20:02.000+0000</td>\n",
       "      <td>share</td>\n",
       "      <td>1635631876919656448</td>\n",
       "      <td>1585753875348324352</td>\n",
       "      <td>2</td>\n",
       "      <td>12</td>\n",
       "      <td>0</td>\n",
       "    </tr>\n",
       "  </tbody>\n",
       "</table>\n",
       "</div>"
      ],
      "text/plain": [
       "                                       Media URLs Mentioned Authors  \\\n",
       "0                                             NaN     @tristansnell   \n",
       "1                                             NaN  @realtuckfrumper   \n",
       "2                                             NaN               NaN   \n",
       "3                                             NaN               NaN   \n",
       "4  http://pbs.twimg.com/media/FrLuhYcaEAExNTH.jpg               NaN   \n",
       "\n",
       "                                        Original Url Professions  \\\n",
       "0  http://twitter.com/TristanSnell/statuses/16357...         NaN   \n",
       "1  http://twitter.com/realTuckFrumper/statuses/16...         NaN   \n",
       "2  http://twitter.com/SenJeffMerkley/statuses/163...         NaN   \n",
       "3  http://twitter.com/nicksortor/statuses/1635715...         NaN   \n",
       "4  http://twitter.com/NEWSMAX/statuses/1635631876...         NaN   \n",
       "\n",
       "                        Resource Id  \\\n",
       "0  137dc6280ae8877be49180430ffbfe52   \n",
       "1  f2fa45bb083b483edb72e75240517ff8   \n",
       "2  2581be0bfc2739fba188158eb87e165f   \n",
       "3  e3a63b6cd116f3e2297460f7222e367c   \n",
       "4  99a308c2c640972394fdbc2868f6c1a0   \n",
       "\n",
       "                                          Short URLs    Thread Author  \\\n",
       "0                                                NaN     TristanSnell   \n",
       "1     https://t.co/ABXKerRD4A, http://dlvr.it/SktpC9  realTuckFrumper   \n",
       "2                                                NaN   SenJeffMerkley   \n",
       "3                                                NaN       nicksortor   \n",
       "4  https://t.co/yiGTVZTHLU, https://t.co/pErVKgnR...          NEWSMAX   \n",
       "\n",
       "            Thread Created Date Thread Entry Type            Thread Id  \\\n",
       "0  2023-03-14T21:25:36.000+0000             share  1635754073080176640   \n",
       "1  2023-03-14T19:38:36.000+0000             share  1635727145854197760   \n",
       "2  2023-03-14T21:45:05.000+0000             share  1635758977374998529   \n",
       "3  2023-03-14T18:53:42.000+0000             share  1635715845656543248   \n",
       "4  2023-03-14T13:20:02.000+0000             share  1635631876919656448   \n",
       "\n",
       "     Twitter Author ID  Twitter Followers  Twitter Following  \\\n",
       "0            600444379               4414               4933   \n",
       "1           1383905040               1011                403   \n",
       "2            574610719                990                341   \n",
       "3           3054687640                 64                496   \n",
       "4  1585753875348324352                  2                 12   \n",
       "\n",
       "   Twitter Reply Count  \n",
       "0                    0  \n",
       "1                    0  \n",
       "2                    0  \n",
       "3                    0  \n",
       "4                    0  "
      ]
     },
     "execution_count": 48,
     "metadata": {},
     "output_type": "execute_result"
    }
   ],
   "source": [
    "data_3.iloc[:, 28 :42].head(5)"
   ]
  },
  {
   "cell_type": "code",
   "execution_count": 40,
   "metadata": {},
   "outputs": [
    {
     "data": {
      "text/html": [
       "<div>\n",
       "<style scoped>\n",
       "    .dataframe tbody tr th:only-of-type {\n",
       "        vertical-align: middle;\n",
       "    }\n",
       "\n",
       "    .dataframe tbody tr th {\n",
       "        vertical-align: top;\n",
       "    }\n",
       "\n",
       "    .dataframe thead th {\n",
       "        text-align: right;\n",
       "    }\n",
       "</style>\n",
       "<table border=\"1\" class=\"dataframe\">\n",
       "  <thead>\n",
       "    <tr style=\"text-align: right;\">\n",
       "      <th></th>\n",
       "      <th>Twitter Reply to</th>\n",
       "      <th>Twitter Retweet of</th>\n",
       "      <th>Twitter Retweets</th>\n",
       "      <th>Twitter Likes</th>\n",
       "      <th>Twitter Tweets</th>\n",
       "      <th>Twitter Verified</th>\n",
       "      <th>Updated</th>\n",
       "      <th>Reach (new)</th>\n",
       "      <th>Engagement Type</th>\n",
       "      <th>Region</th>\n",
       "      <th>Region Code</th>\n",
       "      <th>Weblog Title</th>\n",
       "    </tr>\n",
       "  </thead>\n",
       "  <tbody>\n",
       "    <tr>\n",
       "      <th>0</th>\n",
       "      <td>NaN</td>\n",
       "      <td>http://twitter.com/TristanSnell/statuses/16357...</td>\n",
       "      <td>0</td>\n",
       "      <td>0</td>\n",
       "      <td>139422</td>\n",
       "      <td>False</td>\n",
       "      <td>2023-03-14T22:05:29.119+0000</td>\n",
       "      <td>2752</td>\n",
       "      <td>RETWEET</td>\n",
       "      <td>Kentucky</td>\n",
       "      <td>USA.KY</td>\n",
       "      <td>TurnKyBlue (Shut Down GOP)</td>\n",
       "    </tr>\n",
       "    <tr>\n",
       "      <th>1</th>\n",
       "      <td>NaN</td>\n",
       "      <td>http://twitter.com/realTuckFrumper/statuses/16...</td>\n",
       "      <td>0</td>\n",
       "      <td>0</td>\n",
       "      <td>931407</td>\n",
       "      <td>False</td>\n",
       "      <td>2023-03-14T22:04:45.998+0000</td>\n",
       "      <td>158</td>\n",
       "      <td>RETWEET</td>\n",
       "      <td>NaN</td>\n",
       "      <td>NaN</td>\n",
       "      <td>jrbkjrbk (Roger K)</td>\n",
       "    </tr>\n",
       "    <tr>\n",
       "      <th>2</th>\n",
       "      <td>NaN</td>\n",
       "      <td>http://twitter.com/SenJeffMerkley/statuses/163...</td>\n",
       "      <td>0</td>\n",
       "      <td>0</td>\n",
       "      <td>583071</td>\n",
       "      <td>False</td>\n",
       "      <td>2023-03-14T22:03:59.790+0000</td>\n",
       "      <td>131</td>\n",
       "      <td>RETWEET</td>\n",
       "      <td>NaN</td>\n",
       "      <td>NaN</td>\n",
       "      <td>camoxendale (cam oxendale)</td>\n",
       "    </tr>\n",
       "    <tr>\n",
       "      <th>3</th>\n",
       "      <td>NaN</td>\n",
       "      <td>http://twitter.com/nicksortor/statuses/1635715...</td>\n",
       "      <td>0</td>\n",
       "      <td>0</td>\n",
       "      <td>1136</td>\n",
       "      <td>False</td>\n",
       "      <td>2023-03-14T22:03:33.388+0000</td>\n",
       "      <td>0</td>\n",
       "      <td>RETWEET</td>\n",
       "      <td>NaN</td>\n",
       "      <td>NaN</td>\n",
       "      <td>strongfemchar (Strong Mother)</td>\n",
       "    </tr>\n",
       "    <tr>\n",
       "      <th>4</th>\n",
       "      <td>NaN</td>\n",
       "      <td>http://twitter.com/NEWSMAX/statuses/1635631876...</td>\n",
       "      <td>0</td>\n",
       "      <td>0</td>\n",
       "      <td>46</td>\n",
       "      <td>False</td>\n",
       "      <td>2023-03-14T21:59:01.264+0000</td>\n",
       "      <td>0</td>\n",
       "      <td>RETWEET</td>\n",
       "      <td>NaN</td>\n",
       "      <td>NaN</td>\n",
       "      <td>Waywow (Wayne J)</td>\n",
       "    </tr>\n",
       "  </tbody>\n",
       "</table>\n",
       "</div>"
      ],
      "text/plain": [
       "  Twitter Reply to                                 Twitter Retweet of  \\\n",
       "0              NaN  http://twitter.com/TristanSnell/statuses/16357...   \n",
       "1              NaN  http://twitter.com/realTuckFrumper/statuses/16...   \n",
       "2              NaN  http://twitter.com/SenJeffMerkley/statuses/163...   \n",
       "3              NaN  http://twitter.com/nicksortor/statuses/1635715...   \n",
       "4              NaN  http://twitter.com/NEWSMAX/statuses/1635631876...   \n",
       "\n",
       "   Twitter Retweets  Twitter Likes  Twitter Tweets  Twitter Verified  \\\n",
       "0                 0              0          139422             False   \n",
       "1                 0              0          931407             False   \n",
       "2                 0              0          583071             False   \n",
       "3                 0              0            1136             False   \n",
       "4                 0              0              46             False   \n",
       "\n",
       "                        Updated  Reach (new) Engagement Type    Region  \\\n",
       "0  2023-03-14T22:05:29.119+0000         2752         RETWEET  Kentucky   \n",
       "1  2023-03-14T22:04:45.998+0000          158         RETWEET       NaN   \n",
       "2  2023-03-14T22:03:59.790+0000          131         RETWEET       NaN   \n",
       "3  2023-03-14T22:03:33.388+0000            0         RETWEET       NaN   \n",
       "4  2023-03-14T21:59:01.264+0000            0         RETWEET       NaN   \n",
       "\n",
       "  Region Code                   Weblog Title  \n",
       "0      USA.KY     TurnKyBlue (Shut Down GOP)  \n",
       "1         NaN             jrbkjrbk (Roger K)  \n",
       "2         NaN     camoxendale (cam oxendale)  \n",
       "3         NaN  strongfemchar (Strong Mother)  \n",
       "4         NaN               Waywow (Wayne J)  "
      ]
     },
     "execution_count": 40,
     "metadata": {},
     "output_type": "execute_result"
    }
   ],
   "source": [
    "data_3.iloc[:, 42:56].head(5)"
   ]
  },
  {
   "cell_type": "code",
   "execution_count": 51,
   "metadata": {},
   "outputs": [
    {
     "data": {
      "text/plain": [
       "814103"
      ]
     },
     "execution_count": 51,
     "metadata": {},
     "output_type": "execute_result"
    }
   ],
   "source": [
    "len(pd.concat([data_2, data_1]))"
   ]
  },
  {
   "cell_type": "code",
   "execution_count": 52,
   "metadata": {},
   "outputs": [
    {
     "data": {
      "text/plain": [
       "60312"
      ]
     },
     "execution_count": 52,
     "metadata": {},
     "output_type": "execute_result"
    }
   ],
   "source": [
    "814103 - 753791"
   ]
  },
  {
   "cell_type": "code",
   "execution_count": null,
   "metadata": {},
   "outputs": [],
   "source": []
  }
 ],
 "metadata": {
  "kernelspec": {
   "display_name": "DSBD",
   "language": "python",
   "name": "python3"
  },
  "language_info": {
   "codemirror_mode": {
    "name": "ipython",
    "version": 3
   },
   "file_extension": ".py",
   "mimetype": "text/x-python",
   "name": "python",
   "nbconvert_exporter": "python",
   "pygments_lexer": "ipython3",
   "version": "3.9.16"
  },
  "orig_nbformat": 4
 },
 "nbformat": 4,
 "nbformat_minor": 2
}
